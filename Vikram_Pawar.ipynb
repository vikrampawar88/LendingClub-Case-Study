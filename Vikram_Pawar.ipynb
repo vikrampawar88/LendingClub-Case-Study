{
 "cells": [
  {
   "cell_type": "code",
   "execution_count": null,
   "metadata": {},
   "outputs": [],
   "source": []
  },
  {
   "cell_type": "markdown",
   "metadata": {},
   "source": [
    "Checking the columns provided in loan.csv dataset & checking the columns descriptions in Data\\_Dictionary.xlsx provided, we can categorize data in three groups as below and consider accoridngly in our analysis.\n",
    "\n",
    "**Customer Information:**\n",
    "\n",
    "**Customer Credit Health & Payment Behaviour:**\n",
    "\n",
    "**Loan Information:**\n",
    "\n"
   ]
  },
  {
   "cell_type": "markdown",
   "metadata": {},
   "source": [
    "**Approach**\n",
    "\n",
    "**Data Conversion:**\n",
    "\n",
    "Converting needed object to int or float\n",
    "\n",
    "Removing records instead of imputing as needed\n",
    "\n"
   ]
  },
  {
   "cell_type": "markdown",
   "metadata": {},
   "source": [
    "# <u>Importing required libraries</u>\n",
    "\n"
   ]
  },
  {
   "cell_type": "code",
   "execution_count": 1,
   "metadata": {},
   "outputs": [],
   "source": [
    "import pandas as pd, numpy as np\n",
    "import matplotlib.pyplot as plt\n",
    "import seaborn as sns\n",
    "\n",
    "import warnings\n",
    "warnings.filterwarnings('ignore')"
   ]
  },
  {
   "cell_type": "markdown",
   "metadata": {},
   "source": [
    "# <u>Sourcing loan data from loan.csv</u>\n",
    "\n"
   ]
  },
  {
   "cell_type": "code",
   "execution_count": 2,
   "metadata": {},
   "outputs": [],
   "source": [
    "loan_data = pd.read_csv(\"loan.csv\", low_memory=False)"
   ]
  },
  {
   "cell_type": "markdown",
   "metadata": {},
   "source": [
    "# <u>Data Understanding</u>\n",
    "\n"
   ]
  },
  {
   "cell_type": "code",
   "execution_count": 3,
   "metadata": {},
   "outputs": [
    {
     "data": {
      "text/plain": [
       "(39717, 111)"
      ]
     },
     "execution_count": 3,
     "metadata": {},
     "output_type": "execute_result"
    }
   ],
   "source": [
    "# Checking rows and columns in dataset\n",
    "loan_data.shape"
   ]
  },
  {
   "cell_type": "code",
   "execution_count": 4,
   "metadata": {},
   "outputs": [
    {
     "name": "stdout",
     "output_type": "stream",
     "text": [
      "<class 'pandas.core.frame.DataFrame'>\n",
      "RangeIndex: 39717 entries, 0 to 39716\n",
      "Columns: 111 entries, id to total_il_high_credit_limit\n",
      "dtypes: float64(74), int64(13), object(24)\n",
      "memory usage: 33.6+ MB\n"
     ]
    }
   ],
   "source": [
    "# Checking general information about dataset, mostly to see various datatypes available in dataset\n",
    "loan_data.info()"
   ]
  },
  {
   "cell_type": "code",
   "execution_count": 5,
   "metadata": {},
   "outputs": [
    {
     "data": {
      "text/html": [
       "<div>\n",
       "<style scoped>\n",
       "    .dataframe tbody tr th:only-of-type {\n",
       "        vertical-align: middle;\n",
       "    }\n",
       "\n",
       "    .dataframe tbody tr th {\n",
       "        vertical-align: top;\n",
       "    }\n",
       "\n",
       "    .dataframe thead th {\n",
       "        text-align: right;\n",
       "    }\n",
       "</style>\n",
       "<table border=\"1\" class=\"dataframe\">\n",
       "  <thead>\n",
       "    <tr style=\"text-align: right;\">\n",
       "      <th></th>\n",
       "      <th>id</th>\n",
       "      <th>member_id</th>\n",
       "      <th>loan_amnt</th>\n",
       "      <th>funded_amnt</th>\n",
       "      <th>funded_amnt_inv</th>\n",
       "      <th>term</th>\n",
       "      <th>int_rate</th>\n",
       "      <th>installment</th>\n",
       "      <th>grade</th>\n",
       "      <th>sub_grade</th>\n",
       "      <th>...</th>\n",
       "      <th>num_tl_90g_dpd_24m</th>\n",
       "      <th>num_tl_op_past_12m</th>\n",
       "      <th>pct_tl_nvr_dlq</th>\n",
       "      <th>percent_bc_gt_75</th>\n",
       "      <th>pub_rec_bankruptcies</th>\n",
       "      <th>tax_liens</th>\n",
       "      <th>tot_hi_cred_lim</th>\n",
       "      <th>total_bal_ex_mort</th>\n",
       "      <th>total_bc_limit</th>\n",
       "      <th>total_il_high_credit_limit</th>\n",
       "    </tr>\n",
       "  </thead>\n",
       "  <tbody>\n",
       "    <tr>\n",
       "      <th>0</th>\n",
       "      <td>1077501</td>\n",
       "      <td>1296599</td>\n",
       "      <td>5000</td>\n",
       "      <td>5000</td>\n",
       "      <td>4975.0</td>\n",
       "      <td>36 months</td>\n",
       "      <td>10.65%</td>\n",
       "      <td>162.87</td>\n",
       "      <td>B</td>\n",
       "      <td>B2</td>\n",
       "      <td>...</td>\n",
       "      <td>NaN</td>\n",
       "      <td>NaN</td>\n",
       "      <td>NaN</td>\n",
       "      <td>NaN</td>\n",
       "      <td>0.0</td>\n",
       "      <td>0.0</td>\n",
       "      <td>NaN</td>\n",
       "      <td>NaN</td>\n",
       "      <td>NaN</td>\n",
       "      <td>NaN</td>\n",
       "    </tr>\n",
       "    <tr>\n",
       "      <th>1</th>\n",
       "      <td>1077430</td>\n",
       "      <td>1314167</td>\n",
       "      <td>2500</td>\n",
       "      <td>2500</td>\n",
       "      <td>2500.0</td>\n",
       "      <td>60 months</td>\n",
       "      <td>15.27%</td>\n",
       "      <td>59.83</td>\n",
       "      <td>C</td>\n",
       "      <td>C4</td>\n",
       "      <td>...</td>\n",
       "      <td>NaN</td>\n",
       "      <td>NaN</td>\n",
       "      <td>NaN</td>\n",
       "      <td>NaN</td>\n",
       "      <td>0.0</td>\n",
       "      <td>0.0</td>\n",
       "      <td>NaN</td>\n",
       "      <td>NaN</td>\n",
       "      <td>NaN</td>\n",
       "      <td>NaN</td>\n",
       "    </tr>\n",
       "    <tr>\n",
       "      <th>2</th>\n",
       "      <td>1077175</td>\n",
       "      <td>1313524</td>\n",
       "      <td>2400</td>\n",
       "      <td>2400</td>\n",
       "      <td>2400.0</td>\n",
       "      <td>36 months</td>\n",
       "      <td>15.96%</td>\n",
       "      <td>84.33</td>\n",
       "      <td>C</td>\n",
       "      <td>C5</td>\n",
       "      <td>...</td>\n",
       "      <td>NaN</td>\n",
       "      <td>NaN</td>\n",
       "      <td>NaN</td>\n",
       "      <td>NaN</td>\n",
       "      <td>0.0</td>\n",
       "      <td>0.0</td>\n",
       "      <td>NaN</td>\n",
       "      <td>NaN</td>\n",
       "      <td>NaN</td>\n",
       "      <td>NaN</td>\n",
       "    </tr>\n",
       "    <tr>\n",
       "      <th>3</th>\n",
       "      <td>1076863</td>\n",
       "      <td>1277178</td>\n",
       "      <td>10000</td>\n",
       "      <td>10000</td>\n",
       "      <td>10000.0</td>\n",
       "      <td>36 months</td>\n",
       "      <td>13.49%</td>\n",
       "      <td>339.31</td>\n",
       "      <td>C</td>\n",
       "      <td>C1</td>\n",
       "      <td>...</td>\n",
       "      <td>NaN</td>\n",
       "      <td>NaN</td>\n",
       "      <td>NaN</td>\n",
       "      <td>NaN</td>\n",
       "      <td>0.0</td>\n",
       "      <td>0.0</td>\n",
       "      <td>NaN</td>\n",
       "      <td>NaN</td>\n",
       "      <td>NaN</td>\n",
       "      <td>NaN</td>\n",
       "    </tr>\n",
       "    <tr>\n",
       "      <th>4</th>\n",
       "      <td>1075358</td>\n",
       "      <td>1311748</td>\n",
       "      <td>3000</td>\n",
       "      <td>3000</td>\n",
       "      <td>3000.0</td>\n",
       "      <td>60 months</td>\n",
       "      <td>12.69%</td>\n",
       "      <td>67.79</td>\n",
       "      <td>B</td>\n",
       "      <td>B5</td>\n",
       "      <td>...</td>\n",
       "      <td>NaN</td>\n",
       "      <td>NaN</td>\n",
       "      <td>NaN</td>\n",
       "      <td>NaN</td>\n",
       "      <td>0.0</td>\n",
       "      <td>0.0</td>\n",
       "      <td>NaN</td>\n",
       "      <td>NaN</td>\n",
       "      <td>NaN</td>\n",
       "      <td>NaN</td>\n",
       "    </tr>\n",
       "  </tbody>\n",
       "</table>\n",
       "<p>5 rows × 111 columns</p>\n",
       "</div>"
      ],
      "text/plain": [
       "        id  member_id  loan_amnt  funded_amnt  funded_amnt_inv        term  \\\n",
       "0  1077501    1296599       5000         5000           4975.0   36 months   \n",
       "1  1077430    1314167       2500         2500           2500.0   60 months   \n",
       "2  1077175    1313524       2400         2400           2400.0   36 months   \n",
       "3  1076863    1277178      10000        10000          10000.0   36 months   \n",
       "4  1075358    1311748       3000         3000           3000.0   60 months   \n",
       "\n",
       "  int_rate  installment grade sub_grade  ... num_tl_90g_dpd_24m  \\\n",
       "0   10.65%       162.87     B        B2  ...                NaN   \n",
       "1   15.27%        59.83     C        C4  ...                NaN   \n",
       "2   15.96%        84.33     C        C5  ...                NaN   \n",
       "3   13.49%       339.31     C        C1  ...                NaN   \n",
       "4   12.69%        67.79     B        B5  ...                NaN   \n",
       "\n",
       "  num_tl_op_past_12m pct_tl_nvr_dlq  percent_bc_gt_75 pub_rec_bankruptcies  \\\n",
       "0                NaN            NaN               NaN                  0.0   \n",
       "1                NaN            NaN               NaN                  0.0   \n",
       "2                NaN            NaN               NaN                  0.0   \n",
       "3                NaN            NaN               NaN                  0.0   \n",
       "4                NaN            NaN               NaN                  0.0   \n",
       "\n",
       "  tax_liens tot_hi_cred_lim total_bal_ex_mort total_bc_limit  \\\n",
       "0       0.0             NaN               NaN            NaN   \n",
       "1       0.0             NaN               NaN            NaN   \n",
       "2       0.0             NaN               NaN            NaN   \n",
       "3       0.0             NaN               NaN            NaN   \n",
       "4       0.0             NaN               NaN            NaN   \n",
       "\n",
       "  total_il_high_credit_limit  \n",
       "0                        NaN  \n",
       "1                        NaN  \n",
       "2                        NaN  \n",
       "3                        NaN  \n",
       "4                        NaN  \n",
       "\n",
       "[5 rows x 111 columns]"
      ]
     },
     "execution_count": 5,
     "metadata": {},
     "output_type": "execute_result"
    }
   ],
   "source": [
    "# Quick data view & also checking if any extra header rows present\n",
    "loan_data.head()"
   ]
  },
  {
   "cell_type": "code",
   "execution_count": 6,
   "metadata": {},
   "outputs": [
    {
     "data": {
      "text/html": [
       "<div>\n",
       "<style scoped>\n",
       "    .dataframe tbody tr th:only-of-type {\n",
       "        vertical-align: middle;\n",
       "    }\n",
       "\n",
       "    .dataframe tbody tr th {\n",
       "        vertical-align: top;\n",
       "    }\n",
       "\n",
       "    .dataframe thead th {\n",
       "        text-align: right;\n",
       "    }\n",
       "</style>\n",
       "<table border=\"1\" class=\"dataframe\">\n",
       "  <thead>\n",
       "    <tr style=\"text-align: right;\">\n",
       "      <th></th>\n",
       "      <th>id</th>\n",
       "      <th>member_id</th>\n",
       "      <th>loan_amnt</th>\n",
       "      <th>funded_amnt</th>\n",
       "      <th>funded_amnt_inv</th>\n",
       "      <th>term</th>\n",
       "      <th>int_rate</th>\n",
       "      <th>installment</th>\n",
       "      <th>grade</th>\n",
       "      <th>sub_grade</th>\n",
       "      <th>...</th>\n",
       "      <th>num_tl_90g_dpd_24m</th>\n",
       "      <th>num_tl_op_past_12m</th>\n",
       "      <th>pct_tl_nvr_dlq</th>\n",
       "      <th>percent_bc_gt_75</th>\n",
       "      <th>pub_rec_bankruptcies</th>\n",
       "      <th>tax_liens</th>\n",
       "      <th>tot_hi_cred_lim</th>\n",
       "      <th>total_bal_ex_mort</th>\n",
       "      <th>total_bc_limit</th>\n",
       "      <th>total_il_high_credit_limit</th>\n",
       "    </tr>\n",
       "  </thead>\n",
       "  <tbody>\n",
       "    <tr>\n",
       "      <th>39712</th>\n",
       "      <td>92187</td>\n",
       "      <td>92174</td>\n",
       "      <td>2500</td>\n",
       "      <td>2500</td>\n",
       "      <td>1075.0</td>\n",
       "      <td>36 months</td>\n",
       "      <td>8.07%</td>\n",
       "      <td>78.42</td>\n",
       "      <td>A</td>\n",
       "      <td>A4</td>\n",
       "      <td>...</td>\n",
       "      <td>NaN</td>\n",
       "      <td>NaN</td>\n",
       "      <td>NaN</td>\n",
       "      <td>NaN</td>\n",
       "      <td>NaN</td>\n",
       "      <td>NaN</td>\n",
       "      <td>NaN</td>\n",
       "      <td>NaN</td>\n",
       "      <td>NaN</td>\n",
       "      <td>NaN</td>\n",
       "    </tr>\n",
       "    <tr>\n",
       "      <th>39713</th>\n",
       "      <td>90665</td>\n",
       "      <td>90607</td>\n",
       "      <td>8500</td>\n",
       "      <td>8500</td>\n",
       "      <td>875.0</td>\n",
       "      <td>36 months</td>\n",
       "      <td>10.28%</td>\n",
       "      <td>275.38</td>\n",
       "      <td>C</td>\n",
       "      <td>C1</td>\n",
       "      <td>...</td>\n",
       "      <td>NaN</td>\n",
       "      <td>NaN</td>\n",
       "      <td>NaN</td>\n",
       "      <td>NaN</td>\n",
       "      <td>NaN</td>\n",
       "      <td>NaN</td>\n",
       "      <td>NaN</td>\n",
       "      <td>NaN</td>\n",
       "      <td>NaN</td>\n",
       "      <td>NaN</td>\n",
       "    </tr>\n",
       "    <tr>\n",
       "      <th>39714</th>\n",
       "      <td>90395</td>\n",
       "      <td>90390</td>\n",
       "      <td>5000</td>\n",
       "      <td>5000</td>\n",
       "      <td>1325.0</td>\n",
       "      <td>36 months</td>\n",
       "      <td>8.07%</td>\n",
       "      <td>156.84</td>\n",
       "      <td>A</td>\n",
       "      <td>A4</td>\n",
       "      <td>...</td>\n",
       "      <td>NaN</td>\n",
       "      <td>NaN</td>\n",
       "      <td>NaN</td>\n",
       "      <td>NaN</td>\n",
       "      <td>NaN</td>\n",
       "      <td>NaN</td>\n",
       "      <td>NaN</td>\n",
       "      <td>NaN</td>\n",
       "      <td>NaN</td>\n",
       "      <td>NaN</td>\n",
       "    </tr>\n",
       "    <tr>\n",
       "      <th>39715</th>\n",
       "      <td>90376</td>\n",
       "      <td>89243</td>\n",
       "      <td>5000</td>\n",
       "      <td>5000</td>\n",
       "      <td>650.0</td>\n",
       "      <td>36 months</td>\n",
       "      <td>7.43%</td>\n",
       "      <td>155.38</td>\n",
       "      <td>A</td>\n",
       "      <td>A2</td>\n",
       "      <td>...</td>\n",
       "      <td>NaN</td>\n",
       "      <td>NaN</td>\n",
       "      <td>NaN</td>\n",
       "      <td>NaN</td>\n",
       "      <td>NaN</td>\n",
       "      <td>NaN</td>\n",
       "      <td>NaN</td>\n",
       "      <td>NaN</td>\n",
       "      <td>NaN</td>\n",
       "      <td>NaN</td>\n",
       "    </tr>\n",
       "    <tr>\n",
       "      <th>39716</th>\n",
       "      <td>87023</td>\n",
       "      <td>86999</td>\n",
       "      <td>7500</td>\n",
       "      <td>7500</td>\n",
       "      <td>800.0</td>\n",
       "      <td>36 months</td>\n",
       "      <td>13.75%</td>\n",
       "      <td>255.43</td>\n",
       "      <td>E</td>\n",
       "      <td>E2</td>\n",
       "      <td>...</td>\n",
       "      <td>NaN</td>\n",
       "      <td>NaN</td>\n",
       "      <td>NaN</td>\n",
       "      <td>NaN</td>\n",
       "      <td>NaN</td>\n",
       "      <td>NaN</td>\n",
       "      <td>NaN</td>\n",
       "      <td>NaN</td>\n",
       "      <td>NaN</td>\n",
       "      <td>NaN</td>\n",
       "    </tr>\n",
       "  </tbody>\n",
       "</table>\n",
       "<p>5 rows × 111 columns</p>\n",
       "</div>"
      ],
      "text/plain": [
       "          id  member_id  loan_amnt  funded_amnt  funded_amnt_inv        term  \\\n",
       "39712  92187      92174       2500         2500           1075.0   36 months   \n",
       "39713  90665      90607       8500         8500            875.0   36 months   \n",
       "39714  90395      90390       5000         5000           1325.0   36 months   \n",
       "39715  90376      89243       5000         5000            650.0   36 months   \n",
       "39716  87023      86999       7500         7500            800.0   36 months   \n",
       "\n",
       "      int_rate  installment grade sub_grade  ... num_tl_90g_dpd_24m  \\\n",
       "39712    8.07%        78.42     A        A4  ...                NaN   \n",
       "39713   10.28%       275.38     C        C1  ...                NaN   \n",
       "39714    8.07%       156.84     A        A4  ...                NaN   \n",
       "39715    7.43%       155.38     A        A2  ...                NaN   \n",
       "39716   13.75%       255.43     E        E2  ...                NaN   \n",
       "\n",
       "      num_tl_op_past_12m pct_tl_nvr_dlq  percent_bc_gt_75  \\\n",
       "39712                NaN            NaN               NaN   \n",
       "39713                NaN            NaN               NaN   \n",
       "39714                NaN            NaN               NaN   \n",
       "39715                NaN            NaN               NaN   \n",
       "39716                NaN            NaN               NaN   \n",
       "\n",
       "      pub_rec_bankruptcies tax_liens tot_hi_cred_lim total_bal_ex_mort  \\\n",
       "39712                  NaN       NaN             NaN               NaN   \n",
       "39713                  NaN       NaN             NaN               NaN   \n",
       "39714                  NaN       NaN             NaN               NaN   \n",
       "39715                  NaN       NaN             NaN               NaN   \n",
       "39716                  NaN       NaN             NaN               NaN   \n",
       "\n",
       "      total_bc_limit total_il_high_credit_limit  \n",
       "39712            NaN                        NaN  \n",
       "39713            NaN                        NaN  \n",
       "39714            NaN                        NaN  \n",
       "39715            NaN                        NaN  \n",
       "39716            NaN                        NaN  \n",
       "\n",
       "[5 rows x 111 columns]"
      ]
     },
     "execution_count": 6,
     "metadata": {},
     "output_type": "execute_result"
    }
   ],
   "source": [
    "# Checking if any extra rows present at bottom eg. total rows\n",
    "loan_data.tail()"
   ]
  },
  {
   "cell_type": "code",
   "execution_count": 7,
   "metadata": {},
   "outputs": [
    {
     "name": "stdout",
     "output_type": "stream",
     "text": [
      "['id', 'member_id', 'loan_amnt', 'funded_amnt', 'funded_amnt_inv', 'term', 'int_rate', 'installment', 'grade', 'sub_grade', 'emp_title', 'emp_length', 'home_ownership', 'annual_inc', 'verification_status', 'issue_d', 'loan_status', 'pymnt_plan', 'url', 'desc', 'purpose', 'title', 'zip_code', 'addr_state', 'dti', 'delinq_2yrs', 'earliest_cr_line', 'inq_last_6mths', 'mths_since_last_delinq', 'mths_since_last_record', 'open_acc', 'pub_rec', 'revol_bal', 'revol_util', 'total_acc', 'initial_list_status', 'out_prncp', 'out_prncp_inv', 'total_pymnt', 'total_pymnt_inv', 'total_rec_prncp', 'total_rec_int', 'total_rec_late_fee', 'recoveries', 'collection_recovery_fee', 'last_pymnt_d', 'last_pymnt_amnt', 'next_pymnt_d', 'last_credit_pull_d', 'collections_12_mths_ex_med', 'mths_since_last_major_derog', 'policy_code', 'application_type', 'annual_inc_joint', 'dti_joint', 'verification_status_joint', 'acc_now_delinq', 'tot_coll_amt', 'tot_cur_bal', 'open_acc_6m', 'open_il_6m', 'open_il_12m', 'open_il_24m', 'mths_since_rcnt_il', 'total_bal_il', 'il_util', 'open_rv_12m', 'open_rv_24m', 'max_bal_bc', 'all_util', 'total_rev_hi_lim', 'inq_fi', 'total_cu_tl', 'inq_last_12m', 'acc_open_past_24mths', 'avg_cur_bal', 'bc_open_to_buy', 'bc_util', 'chargeoff_within_12_mths', 'delinq_amnt', 'mo_sin_old_il_acct', 'mo_sin_old_rev_tl_op', 'mo_sin_rcnt_rev_tl_op', 'mo_sin_rcnt_tl', 'mort_acc', 'mths_since_recent_bc', 'mths_since_recent_bc_dlq', 'mths_since_recent_inq', 'mths_since_recent_revol_delinq', 'num_accts_ever_120_pd', 'num_actv_bc_tl', 'num_actv_rev_tl', 'num_bc_sats', 'num_bc_tl', 'num_il_tl', 'num_op_rev_tl', 'num_rev_accts', 'num_rev_tl_bal_gt_0', 'num_sats', 'num_tl_120dpd_2m', 'num_tl_30dpd', 'num_tl_90g_dpd_24m', 'num_tl_op_past_12m', 'pct_tl_nvr_dlq', 'percent_bc_gt_75', 'pub_rec_bankruptcies', 'tax_liens', 'tot_hi_cred_lim', 'total_bal_ex_mort', 'total_bc_limit', 'total_il_high_credit_limit']\n"
     ]
    }
   ],
   "source": [
    "print(loan_data.columns.tolist())"
   ]
  },
  {
   "cell_type": "markdown",
   "metadata": {},
   "source": [
    "---\n",
    "\n"
   ]
  },
  {
   "cell_type": "markdown",
   "metadata": {},
   "source": [
    "## Removing ongoing loans records\n",
    "\n",
    "#### Note:\n",
    "\n",
    "While working with dataset, saw that we can remove the records for the ongoing loans \\(loan\\_status=Current\\) due to below reasons\n",
    "\n",
    "1. We cannot and should not predict will the customer default or fully pay loan in future\n",
    "2. We can use the customer payment behaviour data of ongoing loans to predict possibility of loan default but that is not in the scope of the problem statement\n",
    "3. Dataset of ongoing loans is also very low \\(only 2%\\)\n",
    "\n",
    "We are removing all records with loan\\_status == Current now itself before basic data cleaning as it reduces the dataset and it is helpful to clean data for standard things like all NULL, single value columns etc.\n",
    "\n",
    "_eg. next\\_pymnt\\_d seems to be having data only for ongoing loans and seems hence NULL values for this column is above 90%, now after removing records of loan\\_status= Current this column gets removed as part of removal of all NULL value columns_\n",
    "\n",
    "<br/>\n",
    "\n",
    "We encountered this issue while working further and have to redo all NULL, single value column removals hence decided to remove all ongoing/Current loan entries at start.\n",
    "\n"
   ]
  },
  {
   "cell_type": "code",
   "execution_count": 8,
   "metadata": {},
   "outputs": [
    {
     "name": "stdout",
     "output_type": "stream",
     "text": [
      "Fully Paid     32950\n",
      "Charged Off     5627\n",
      "Current         1140\n",
      "Name: loan_status, dtype: int64\n",
      "\n",
      "****************\n",
      "\n",
      "Fully Paid     82.961956\n",
      "Charged Off    14.167737\n",
      "Current         2.870307\n",
      "Name: loan_status, dtype: float64\n"
     ]
    }
   ],
   "source": [
    "# Checking records as per loan_status, to see volume of ongoing loans compared to Fully Paid & Defaulted\n",
    "\n",
    "print(loan_data['loan_status'].value_counts(dropna=False))\n",
    "\n",
    "print(\"\")\n",
    "print(\"****************\")\n",
    "print(\"\")\n",
    "\n",
    "print(loan_data['loan_status'].value_counts(normalize=True, dropna=False) * 100)"
   ]
  },
  {
   "cell_type": "code",
   "execution_count": 9,
   "metadata": {},
   "outputs": [
    {
     "data": {
      "text/html": [
       "<div>\n",
       "<style scoped>\n",
       "    .dataframe tbody tr th:only-of-type {\n",
       "        vertical-align: middle;\n",
       "    }\n",
       "\n",
       "    .dataframe tbody tr th {\n",
       "        vertical-align: top;\n",
       "    }\n",
       "\n",
       "    .dataframe thead th {\n",
       "        text-align: right;\n",
       "    }\n",
       "</style>\n",
       "<table border=\"1\" class=\"dataframe\">\n",
       "  <thead>\n",
       "    <tr style=\"text-align: right;\">\n",
       "      <th></th>\n",
       "      <th>id</th>\n",
       "      <th>member_id</th>\n",
       "      <th>loan_amnt</th>\n",
       "      <th>funded_amnt</th>\n",
       "      <th>funded_amnt_inv</th>\n",
       "      <th>term</th>\n",
       "      <th>int_rate</th>\n",
       "      <th>installment</th>\n",
       "      <th>grade</th>\n",
       "      <th>sub_grade</th>\n",
       "      <th>...</th>\n",
       "      <th>num_tl_90g_dpd_24m</th>\n",
       "      <th>num_tl_op_past_12m</th>\n",
       "      <th>pct_tl_nvr_dlq</th>\n",
       "      <th>percent_bc_gt_75</th>\n",
       "      <th>pub_rec_bankruptcies</th>\n",
       "      <th>tax_liens</th>\n",
       "      <th>tot_hi_cred_lim</th>\n",
       "      <th>total_bal_ex_mort</th>\n",
       "      <th>total_bc_limit</th>\n",
       "      <th>total_il_high_credit_limit</th>\n",
       "    </tr>\n",
       "  </thead>\n",
       "  <tbody>\n",
       "  </tbody>\n",
       "</table>\n",
       "<p>0 rows × 111 columns</p>\n",
       "</div>"
      ],
      "text/plain": [
       "Empty DataFrame\n",
       "Columns: [id, member_id, loan_amnt, funded_amnt, funded_amnt_inv, term, int_rate, installment, grade, sub_grade, emp_title, emp_length, home_ownership, annual_inc, verification_status, issue_d, loan_status, pymnt_plan, url, desc, purpose, title, zip_code, addr_state, dti, delinq_2yrs, earliest_cr_line, inq_last_6mths, mths_since_last_delinq, mths_since_last_record, open_acc, pub_rec, revol_bal, revol_util, total_acc, initial_list_status, out_prncp, out_prncp_inv, total_pymnt, total_pymnt_inv, total_rec_prncp, total_rec_int, total_rec_late_fee, recoveries, collection_recovery_fee, last_pymnt_d, last_pymnt_amnt, next_pymnt_d, last_credit_pull_d, collections_12_mths_ex_med, mths_since_last_major_derog, policy_code, application_type, annual_inc_joint, dti_joint, verification_status_joint, acc_now_delinq, tot_coll_amt, tot_cur_bal, open_acc_6m, open_il_6m, open_il_12m, open_il_24m, mths_since_rcnt_il, total_bal_il, il_util, open_rv_12m, open_rv_24m, max_bal_bc, all_util, total_rev_hi_lim, inq_fi, total_cu_tl, inq_last_12m, acc_open_past_24mths, avg_cur_bal, bc_open_to_buy, bc_util, chargeoff_within_12_mths, delinq_amnt, mo_sin_old_il_acct, mo_sin_old_rev_tl_op, mo_sin_rcnt_rev_tl_op, mo_sin_rcnt_tl, mort_acc, mths_since_recent_bc, mths_since_recent_bc_dlq, mths_since_recent_inq, mths_since_recent_revol_delinq, num_accts_ever_120_pd, num_actv_bc_tl, num_actv_rev_tl, num_bc_sats, num_bc_tl, num_il_tl, num_op_rev_tl, num_rev_accts, num_rev_tl_bal_gt_0, num_sats, num_tl_120dpd_2m, ...]\n",
       "Index: []\n",
       "\n",
       "[0 rows x 111 columns]"
      ]
     },
     "execution_count": 9,
     "metadata": {},
     "output_type": "execute_result"
    }
   ],
   "source": [
    "# Ongoing loans are good to consider while analysing if person defaulted on loan due to multiple open loans\n",
    "# But for doing so lets check if in data provided is any person having multiple loans\n",
    "members_with_multiple_loans = loan_data[loan_data['member_id'].duplicated()]\n",
    "\n",
    "members_with_multiple_loans\n"
   ]
  },
  {
   "cell_type": "markdown",
   "metadata": {},
   "source": [
    "As there are no member\\_id repeated means all loans are unique to customers as per data provided.\n",
    "\n",
    "May be, if names or any other identification info was provided we may have been able to find one customer with multiple loans assuming customer was freshly created every time it was added to system as member\\_id is unique.\n",
    "\n",
    "But considering data as it is we will consider loans given to unique customers and hence we can remove ongoing loans as we cannot predict their outcome.\n"
   ]
  },
  {
   "cell_type": "code",
   "execution_count": 10,
   "metadata": {},
   "outputs": [
    {
     "name": "stdout",
     "output_type": "stream",
     "text": [
      "Before removing loan_status = Current records : 39717\n",
      "After removing loan_status = Current records : 38577\n",
      "Total ongoing loans removed are 1140, which is 2.87% of total data\n"
     ]
    }
   ],
   "source": [
    "loan_data_before_removing_ongoing_loans = len(loan_data)\n",
    "print(\"Before removing loan_status = Current records : \"+str(loan_data_before_removing_ongoing_loans))\n",
    "\n",
    "loan_data = loan_data[loan_data['loan_status'] != \"Current\"]\n",
    "\n",
    "loan_data_after_removing_ongoing_loans = len(loan_data)\n",
    "\n",
    "print(\"After removing loan_status = Current records : \"+str(loan_data_after_removing_ongoing_loans))\n",
    "\n",
    "total_ongoing_loans_removed = loan_data_before_removing_ongoing_loans-loan_data_after_removing_ongoing_loans\n",
    "\n",
    "print(\"Total ongoing loans removed are \"+str(total_ongoing_loans_removed)+\", which is \"+str(round((total_ongoing_loans_removed/loan_data_before_removing_ongoing_loans)*100, 2))+\"% of total data\")"
   ]
  },
  {
   "cell_type": "code",
   "execution_count": 11,
   "metadata": {},
   "outputs": [
    {
     "data": {
      "text/plain": [
       "(38577, 111)"
      ]
     },
     "execution_count": 11,
     "metadata": {},
     "output_type": "execute_result"
    }
   ],
   "source": [
    "# Checking records after removing the loan_status = Current records\n",
    "loan_data.shape"
   ]
  },
  {
   "cell_type": "markdown",
   "metadata": {},
   "source": [
    "---\n",
    "\n"
   ]
  },
  {
   "cell_type": "markdown",
   "metadata": {},
   "source": [
    "# <u>Data Cleaning : Starts Here</u>\n",
    "\n"
   ]
  },
  {
   "cell_type": "markdown",
   "metadata": {},
   "source": [
    "## Fixing Rows \\(Basic Sanity Checks\\)\n",
    "\n"
   ]
  },
  {
   "cell_type": "markdown",
   "metadata": {},
   "source": [
    "Considering output of head\\(\\) & tail\\(\\) we have below observations\n",
    "\n",
    "- Data set is not having header rows or footer rows\n",
    "- There are no total or subtotal rows as well\n",
    "- There are no Column number indicator rows\n",
    "\n"
   ]
  },
  {
   "cell_type": "code",
   "execution_count": 12,
   "metadata": {},
   "outputs": [
    {
     "name": "stdout",
     "output_type": "stream",
     "text": [
      "Empty DataFrame\n",
      "Columns: [id, member_id, loan_amnt, funded_amnt, funded_amnt_inv, term, int_rate, installment, grade, sub_grade, emp_title, emp_length, home_ownership, annual_inc, verification_status, issue_d, loan_status, pymnt_plan, url, desc, purpose, title, zip_code, addr_state, dti, delinq_2yrs, earliest_cr_line, inq_last_6mths, mths_since_last_delinq, mths_since_last_record, open_acc, pub_rec, revol_bal, revol_util, total_acc, initial_list_status, out_prncp, out_prncp_inv, total_pymnt, total_pymnt_inv, total_rec_prncp, total_rec_int, total_rec_late_fee, recoveries, collection_recovery_fee, last_pymnt_d, last_pymnt_amnt, next_pymnt_d, last_credit_pull_d, collections_12_mths_ex_med, mths_since_last_major_derog, policy_code, application_type, annual_inc_joint, dti_joint, verification_status_joint, acc_now_delinq, tot_coll_amt, tot_cur_bal, open_acc_6m, open_il_6m, open_il_12m, open_il_24m, mths_since_rcnt_il, total_bal_il, il_util, open_rv_12m, open_rv_24m, max_bal_bc, all_util, total_rev_hi_lim, inq_fi, total_cu_tl, inq_last_12m, acc_open_past_24mths, avg_cur_bal, bc_open_to_buy, bc_util, chargeoff_within_12_mths, delinq_amnt, mo_sin_old_il_acct, mo_sin_old_rev_tl_op, mo_sin_rcnt_rev_tl_op, mo_sin_rcnt_tl, mort_acc, mths_since_recent_bc, mths_since_recent_bc_dlq, mths_since_recent_inq, mths_since_recent_revol_delinq, num_accts_ever_120_pd, num_actv_bc_tl, num_actv_rev_tl, num_bc_sats, num_bc_tl, num_il_tl, num_op_rev_tl, num_rev_accts, num_rev_tl_bal_gt_0, num_sats, num_tl_120dpd_2m, ...]\n",
      "Index: []\n",
      "\n",
      "[0 rows x 111 columns]\n"
     ]
    }
   ],
   "source": [
    "# Checking if any blank rows in dataset\n",
    "blank_rows = loan_data[loan_data.isnull().all(axis=1)]\n",
    "\n",
    "# Print the blank rows\n",
    "print(blank_rows)"
   ]
  },
  {
   "cell_type": "markdown",
   "metadata": {},
   "source": [
    "- There are no blank rows in data set as well\n",
    "\n"
   ]
  },
  {
   "cell_type": "code",
   "execution_count": 13,
   "metadata": {},
   "outputs": [
    {
     "name": "stdout",
     "output_type": "stream",
     "text": [
      "0\n"
     ]
    }
   ],
   "source": [
    "print(loan_data.duplicated().sum())"
   ]
  },
  {
   "cell_type": "markdown",
   "metadata": {},
   "source": [
    "- There are no duplicate rows in data set\n",
    "\n"
   ]
  },
  {
   "cell_type": "markdown",
   "metadata": {},
   "source": [
    "---\n",
    "\n"
   ]
  },
  {
   "cell_type": "markdown",
   "metadata": {},
   "source": [
    "## Analysing & Removing Columns\n",
    "\n"
   ]
  },
  {
   "cell_type": "markdown",
   "metadata": {},
   "source": [
    "### Basic sanity check on columns\n",
    "\n"
   ]
  },
  {
   "cell_type": "markdown",
   "metadata": {},
   "source": [
    "- Missing Column Names : All columns seems to be having proper name provided\n",
    "- Inconsistent column names : Columns names are consistent and with proper explanation of each column name provided in Data\\_Dictionary.xlsx\n",
    "- Unnecessary columns: No Unidentified columns or blank columns \\(Null only are present but we can clean up later\\)\n",
    "- Misaligned columns: All rows are having properly arranged data in given columns, no misaligned columns\n",
    "\n"
   ]
  },
  {
   "cell_type": "markdown",
   "metadata": {},
   "source": [
    "---\n",
    "\n"
   ]
  },
  {
   "cell_type": "markdown",
   "metadata": {},
   "source": [
    "### Remove all 100% null columns\n",
    "\n"
   ]
  },
  {
   "cell_type": "code",
   "execution_count": 14,
   "metadata": {},
   "outputs": [
    {
     "data": {
      "text/plain": [
       "verification_status_joint    100.0\n",
       "annual_inc_joint             100.0\n",
       "mo_sin_old_rev_tl_op         100.0\n",
       "mo_sin_old_il_acct           100.0\n",
       "bc_util                      100.0\n",
       "                             ...  \n",
       "delinq_amnt                    0.0\n",
       "policy_code                    0.0\n",
       "earliest_cr_line               0.0\n",
       "delinq_2yrs                    0.0\n",
       "id                             0.0\n",
       "Length: 111, dtype: float64"
      ]
     },
     "execution_count": 14,
     "metadata": {},
     "output_type": "execute_result"
    }
   ],
   "source": [
    "# Checking % of null present in all columns to see if any columns we can drop\n",
    "\n",
    "null_percent_per_column = ((loan_data.isnull().sum() / len(loan_data)) * 100)\n",
    "\n",
    "null_percent_per_column.round(2).sort_values(ascending=False)"
   ]
  },
  {
   "cell_type": "code",
   "execution_count": 15,
   "metadata": {},
   "outputs": [
    {
     "data": {
      "text/plain": [
       "(38577, 56)"
      ]
     },
     "execution_count": 15,
     "metadata": {},
     "output_type": "execute_result"
    }
   ],
   "source": [
    "# Removing all NULL value columns\n",
    "loan_data.dropna(axis = 1, how = 'all', inplace = True)\n",
    "\n",
    "# Checking shape of loan_data after to verify if column count is as expected\n",
    "loan_data.shape"
   ]
  },
  {
   "cell_type": "markdown",
   "metadata": {},
   "source": [
    "---\n",
    "\n"
   ]
  },
  {
   "cell_type": "markdown",
   "metadata": {},
   "source": [
    "### Analyse remaining columns to see % of null present in them and decide accordingly about their removal\n",
    "\n"
   ]
  },
  {
   "cell_type": "code",
   "execution_count": 16,
   "metadata": {},
   "outputs": [
    {
     "data": {
      "text/plain": [
       "mths_since_last_record        92.90\n",
       "mths_since_last_delinq        64.56\n",
       "desc                          32.47\n",
       "emp_title                      6.19\n",
       "emp_length                     2.68\n",
       "pub_rec_bankruptcies           1.81\n",
       "last_pymnt_d                   0.18\n",
       "chargeoff_within_12_mths       0.15\n",
       "collections_12_mths_ex_med     0.15\n",
       "revol_util                     0.13\n",
       "tax_liens                      0.10\n",
       "title                          0.03\n",
       "last_credit_pull_d             0.01\n",
       "sub_grade                      0.00\n",
       "collection_recovery_fee        0.00\n",
       "out_prncp                      0.00\n",
       "out_prncp_inv                  0.00\n",
       "total_pymnt                    0.00\n",
       "total_pymnt_inv                0.00\n",
       "total_rec_prncp                0.00\n",
       "total_rec_int                  0.00\n",
       "total_rec_late_fee             0.00\n",
       "recoveries                     0.00\n",
       "last_pymnt_amnt                0.00\n",
       "term                           0.00\n",
       "total_acc                      0.00\n",
       "funded_amnt_inv                0.00\n",
       "policy_code                    0.00\n",
       "application_type               0.00\n",
       "acc_now_delinq                 0.00\n",
       "funded_amnt                    0.00\n",
       "delinq_amnt                    0.00\n",
       "loan_amnt                      0.00\n",
       "initial_list_status            0.00\n",
       "int_rate                       0.00\n",
       "home_ownership                 0.00\n",
       "zip_code                       0.00\n",
       "annual_inc                     0.00\n",
       "verification_status            0.00\n",
       "issue_d                        0.00\n",
       "loan_status                    0.00\n",
       "pymnt_plan                     0.00\n",
       "url                            0.00\n",
       "grade                          0.00\n",
       "purpose                        0.00\n",
       "addr_state                     0.00\n",
       "revol_bal                      0.00\n",
       "dti                            0.00\n",
       "delinq_2yrs                    0.00\n",
       "earliest_cr_line               0.00\n",
       "inq_last_6mths                 0.00\n",
       "member_id                      0.00\n",
       "installment                    0.00\n",
       "open_acc                       0.00\n",
       "pub_rec                        0.00\n",
       "id                             0.00\n",
       "dtype: float64"
      ]
     },
     "execution_count": 16,
     "metadata": {},
     "output_type": "execute_result"
    }
   ],
   "source": [
    "null_percent_per_column = (loan_data.isnull().sum() / len(loan_data)) * 100\n",
    "\n",
    "null_percent_per_column.round(2).sort_values(ascending=False)"
   ]
  },
  {
   "cell_type": "markdown",
   "metadata": {},
   "source": [
    "__Deleting mths_since_last_record & mths_since_last_delinq__\n",
    "\n",
    "\n",
    "\n",
    "__mths_since_last_record : The number of months since the last public record.__\n",
    "<br>\n",
    "Having 93% NULL values & seems to be last date when customer data was updated publicly which again is not much of value as per problem statement\n",
    "<br><br>\n",
    "__mths_since_last_delinq : The number of months since the borrower's last delinquency.__\n",
    "<br>\n",
    "Having 65% NULL values & seems to be having data of last time when customer defaulted in months.\n",
    "<br>\n",
    "Additionally in column description it is not mentioned if this column value for particular record was pulled when loan application was made or is it field updated after loan was sanctioned. Assuming the field is updated after loan is sanctioned to track the user payment behaviour and hence it will not add much value in our analysis hence removing it.\n"
   ]
  },
  {
   "cell_type": "code",
   "execution_count": 17,
   "metadata": {},
   "outputs": [
    {
     "name": "stdout",
     "output_type": "stream",
     "text": [
      "(38577, 54)\n",
      "['id', 'member_id', 'loan_amnt', 'funded_amnt', 'funded_amnt_inv', 'term', 'int_rate', 'installment', 'grade', 'sub_grade', 'emp_title', 'emp_length', 'home_ownership', 'annual_inc', 'verification_status', 'issue_d', 'loan_status', 'pymnt_plan', 'url', 'desc', 'purpose', 'title', 'zip_code', 'addr_state', 'dti', 'delinq_2yrs', 'earliest_cr_line', 'inq_last_6mths', 'open_acc', 'pub_rec', 'revol_bal', 'revol_util', 'total_acc', 'initial_list_status', 'out_prncp', 'out_prncp_inv', 'total_pymnt', 'total_pymnt_inv', 'total_rec_prncp', 'total_rec_int', 'total_rec_late_fee', 'recoveries', 'collection_recovery_fee', 'last_pymnt_d', 'last_pymnt_amnt', 'last_credit_pull_d', 'collections_12_mths_ex_med', 'policy_code', 'application_type', 'acc_now_delinq', 'chargeoff_within_12_mths', 'delinq_amnt', 'pub_rec_bankruptcies', 'tax_liens']\n"
     ]
    }
   ],
   "source": [
    "loan_data = loan_data.drop(columns=['mths_since_last_record', 'mths_since_last_delinq'])\n",
    "\n",
    "print(loan_data.shape)\n",
    "\n",
    "print(loan_data.columns.tolist())"
   ]
  },
  {
   "cell_type": "markdown",
   "metadata": {},
   "source": [
    "---\n",
    "\n"
   ]
  },
  {
   "cell_type": "markdown",
   "metadata": {},
   "source": [
    "### Get all columns with single value and remove them as it will not help much in analysis\n",
    "\n",
    "- Single value columns will not add much value in our analysis. So removing them.\n",
    "\n"
   ]
  },
  {
   "cell_type": "code",
   "execution_count": 18,
   "metadata": {},
   "outputs": [
    {
     "data": {
      "text/plain": [
       "tax_liens                         1\n",
       "delinq_amnt                       1\n",
       "chargeoff_within_12_mths          1\n",
       "acc_now_delinq                    1\n",
       "application_type                  1\n",
       "policy_code                       1\n",
       "initial_list_status               1\n",
       "out_prncp                         1\n",
       "collections_12_mths_ex_med        1\n",
       "out_prncp_inv                     1\n",
       "pymnt_plan                        1\n",
       "term                              2\n",
       "loan_status                       2\n",
       "pub_rec_bankruptcies              3\n",
       "verification_status               3\n",
       "home_ownership                    5\n",
       "pub_rec                           5\n",
       "grade                             7\n",
       "inq_last_6mths                    9\n",
       "emp_length                       11\n",
       "delinq_2yrs                      11\n",
       "purpose                          14\n",
       "sub_grade                        35\n",
       "open_acc                         40\n",
       "addr_state                       50\n",
       "issue_d                          55\n",
       "total_acc                        82\n",
       "last_pymnt_d                    101\n",
       "last_credit_pull_d              106\n",
       "int_rate                        370\n",
       "earliest_cr_line                524\n",
       "zip_code                        822\n",
       "loan_amnt                       870\n",
       "funded_amnt                    1019\n",
       "revol_util                     1088\n",
       "total_rec_late_fee             1320\n",
       "collection_recovery_fee        2616\n",
       "dti                            2853\n",
       "recoveries                     4040\n",
       "annual_inc                     5215\n",
       "total_rec_prncp                6841\n",
       "funded_amnt_inv                8050\n",
       "installment                   15022\n",
       "title                         19297\n",
       "revol_bal                     21275\n",
       "desc                          25803\n",
       "emp_title                     28027\n",
       "total_rec_int                 34025\n",
       "last_pymnt_amnt               34418\n",
       "total_pymnt_inv               36387\n",
       "total_pymnt                   36714\n",
       "url                           38577\n",
       "member_id                     38577\n",
       "id                            38577\n",
       "dtype: int64"
      ]
     },
     "execution_count": 18,
     "metadata": {},
     "output_type": "execute_result"
    }
   ],
   "source": [
    "# Get columns and number of unique values in loan_data\n",
    "unique_value_counts_per_column = loan_data.nunique()\n",
    "\n",
    "unique_value_counts_per_column.sort_values()"
   ]
  },
  {
   "cell_type": "code",
   "execution_count": 19,
   "metadata": {},
   "outputs": [
    {
     "name": "stdout",
     "output_type": "stream",
     "text": [
      "11\n"
     ]
    },
    {
     "data": {
      "text/plain": [
       "['pymnt_plan',\n",
       " 'initial_list_status',\n",
       " 'out_prncp',\n",
       " 'out_prncp_inv',\n",
       " 'collections_12_mths_ex_med',\n",
       " 'policy_code',\n",
       " 'application_type',\n",
       " 'acc_now_delinq',\n",
       " 'chargeoff_within_12_mths',\n",
       " 'delinq_amnt',\n",
       " 'tax_liens']"
      ]
     },
     "execution_count": 19,
     "metadata": {},
     "output_type": "execute_result"
    }
   ],
   "source": [
    "single_value_columns = unique_value_counts_per_column[unique_value_counts_per_column == 1].index.tolist()\n",
    "\n",
    "print(len(single_value_columns))\n",
    "\n",
    "single_value_columns"
   ]
  },
  {
   "cell_type": "code",
   "execution_count": 20,
   "metadata": {},
   "outputs": [
    {
     "name": "stdout",
     "output_type": "stream",
     "text": [
      "Looking for column : pymnt_plan\n",
      "n    38577\n",
      "Name: pymnt_plan, dtype: int64\n",
      "\n",
      "Looking for column : initial_list_status\n",
      "f    38577\n",
      "Name: initial_list_status, dtype: int64\n",
      "\n",
      "Looking for column : out_prncp\n",
      "0.0    38577\n",
      "Name: out_prncp, dtype: int64\n",
      "\n",
      "Looking for column : out_prncp_inv\n",
      "0.0    38577\n",
      "Name: out_prncp_inv, dtype: int64\n",
      "\n",
      "Looking for column : collections_12_mths_ex_med\n",
      "0.0    38521\n",
      "Name: collections_12_mths_ex_med, dtype: int64\n",
      "\n",
      "Looking for column : policy_code\n",
      "1    38577\n",
      "Name: policy_code, dtype: int64\n",
      "\n",
      "Looking for column : application_type\n",
      "INDIVIDUAL    38577\n",
      "Name: application_type, dtype: int64\n",
      "\n",
      "Looking for column : acc_now_delinq\n",
      "0    38577\n",
      "Name: acc_now_delinq, dtype: int64\n",
      "\n",
      "Looking for column : chargeoff_within_12_mths\n",
      "0.0    38521\n",
      "Name: chargeoff_within_12_mths, dtype: int64\n",
      "\n",
      "Looking for column : delinq_amnt\n",
      "0    38577\n",
      "Name: delinq_amnt, dtype: int64\n",
      "\n",
      "Looking for column : tax_liens\n",
      "0.0    38538\n",
      "Name: tax_liens, dtype: int64\n",
      "\n"
     ]
    }
   ],
   "source": [
    "# Checking what is the single value in each column with only 1 unique, to see if its safe to delete the column (mostly ok to delete but cross checking)\n",
    "\n",
    "for column in single_value_columns:\n",
    "    print(\"Looking for column : \"+column)\n",
    "    print(loan_data[column].value_counts())\n",
    "    print(\"\")"
   ]
  },
  {
   "cell_type": "markdown",
   "metadata": {},
   "source": [
    "Checking the values in each single value column and as per description provided in data\\_dictionary for the column it is ok to delete this columns\n"
   ]
  },
  {
   "cell_type": "code",
   "execution_count": 21,
   "metadata": {},
   "outputs": [
    {
     "data": {
      "text/plain": [
       "(38577, 43)"
      ]
     },
     "execution_count": 21,
     "metadata": {},
     "output_type": "execute_result"
    }
   ],
   "source": [
    "# Removing columns with single value from loan_data\n",
    "loan_data = loan_data.drop(columns=single_value_columns)\n",
    "                           \n",
    "# Checking shape of loan_data after to verify if column count is as expected\n",
    "loan_data.shape"
   ]
  },
  {
   "cell_type": "markdown",
   "metadata": {},
   "source": [
    "---\n",
    "\n"
   ]
  },
  {
   "cell_type": "markdown",
   "metadata": {},
   "source": [
    "### Remove columns with all unique values\n",
    "\n"
   ]
  },
  {
   "cell_type": "code",
   "execution_count": 22,
   "metadata": {},
   "outputs": [
    {
     "data": {
      "text/plain": [
       "Index(['id', 'member_id', 'url'], dtype='object')"
      ]
     },
     "execution_count": 22,
     "metadata": {},
     "output_type": "execute_result"
    }
   ],
   "source": [
    "# Get columns with all unique values\n",
    "unique_value_columns = loan_data.columns[loan_data.nunique() == len(loan_data)]\n",
    "\n",
    "unique_value_columns"
   ]
  },
  {
   "cell_type": "markdown",
   "metadata": {},
   "source": [
    "Removing id, member\\_id & url columns as they won't add much value for analysis.\n",
    "\n",
    "We would have kept one unique value column for any future work of manipulating the entries on basis of unique value like updating or deleting, but not forecasting need of it as per problem statement of case study.\n"
   ]
  },
  {
   "cell_type": "code",
   "execution_count": 23,
   "metadata": {},
   "outputs": [],
   "source": [
    "# Removing unqiue value columns\n",
    "\n",
    "loan_data = loan_data.drop(columns=unique_value_columns)"
   ]
  },
  {
   "cell_type": "code",
   "execution_count": 24,
   "metadata": {},
   "outputs": [
    {
     "data": {
      "text/plain": [
       "(38577, 40)"
      ]
     },
     "execution_count": 24,
     "metadata": {},
     "output_type": "execute_result"
    }
   ],
   "source": [
    "# Checking shape of loan_data after to verify if column count is as expected\n",
    "loan_data.shape\n"
   ]
  },
  {
   "cell_type": "markdown",
   "metadata": {},
   "source": [
    "---\n",
    "\n"
   ]
  },
  {
   "cell_type": "markdown",
   "metadata": {},
   "source": [
    "### Remove all columns which are not needed for analysis considering problem statement\n",
    "\n"
   ]
  },
  {
   "cell_type": "code",
   "execution_count": 25,
   "metadata": {},
   "outputs": [
    {
     "name": "stdout",
     "output_type": "stream",
     "text": [
      "['loan_amnt', 'funded_amnt', 'funded_amnt_inv', 'term', 'int_rate', 'installment', 'grade', 'sub_grade', 'emp_title', 'emp_length', 'home_ownership', 'annual_inc', 'verification_status', 'issue_d', 'loan_status', 'desc', 'purpose', 'title', 'zip_code', 'addr_state', 'dti', 'delinq_2yrs', 'earliest_cr_line', 'inq_last_6mths', 'open_acc', 'pub_rec', 'revol_bal', 'revol_util', 'total_acc', 'total_pymnt', 'total_pymnt_inv', 'total_rec_prncp', 'total_rec_int', 'total_rec_late_fee', 'recoveries', 'collection_recovery_fee', 'last_pymnt_d', 'last_pymnt_amnt', 'last_credit_pull_d', 'pub_rec_bankruptcies']\n"
     ]
    }
   ],
   "source": [
    "print(loan_data.columns.tolist())"
   ]
  },
  {
   "cell_type": "markdown",
   "metadata": {},
   "source": [
    "**Lending Club's investors dealing for the loan will not be of much value to us for analysis hence we can remove those columns.**\n",
    "\n",
    "Columns: funded\\_amnt\\_inv, total\\_pymnt\\_inv \n",
    "\n"
   ]
  },
  {
   "cell_type": "code",
   "execution_count": 26,
   "metadata": {},
   "outputs": [],
   "source": [
    "# Removing funded_amnt_inv, total_pymnt_inv columns\n",
    "\n",
    "loan_data = loan_data.drop(columns=['funded_amnt_inv', 'total_pymnt_inv'])"
   ]
  },
  {
   "cell_type": "code",
   "execution_count": 27,
   "metadata": {},
   "outputs": [
    {
     "name": "stdout",
     "output_type": "stream",
     "text": [
      "(38577, 38)\n",
      "['loan_amnt', 'funded_amnt', 'term', 'int_rate', 'installment', 'grade', 'sub_grade', 'emp_title', 'emp_length', 'home_ownership', 'annual_inc', 'verification_status', 'issue_d', 'loan_status', 'desc', 'purpose', 'title', 'zip_code', 'addr_state', 'dti', 'delinq_2yrs', 'earliest_cr_line', 'inq_last_6mths', 'open_acc', 'pub_rec', 'revol_bal', 'revol_util', 'total_acc', 'total_pymnt', 'total_rec_prncp', 'total_rec_int', 'total_rec_late_fee', 'recoveries', 'collection_recovery_fee', 'last_pymnt_d', 'last_pymnt_amnt', 'last_credit_pull_d', 'pub_rec_bankruptcies']\n"
     ]
    }
   ],
   "source": [
    "# Checking columns after removing funded_amnt_inv, total_pymnt_inv columns\n",
    "print(loan_data.shape)\n",
    "print(loan_data.columns.tolist())"
   ]
  },
  {
   "cell_type": "markdown",
   "metadata": {},
   "source": [
    "**total\\_pymnt, total\\_rec\\_prncp, total\\_rec\\_int, total\\_rec\\_late\\_fee**\n",
    "\n",
    "- total\\_pymnt : Payments received to date for total amount funded\n",
    "- total\\_rec\\_prncp : Principal received to date\n",
    "- total\\_rec\\_int : Interest received to date\n",
    "- total\\_rec\\_late\\_fee : Late fees received to date\n",
    "\n",
    "This columns seems to highlight the latest collected amounts from customer & may be used by Lending Club for certain calculations.\n",
    "\n",
    "This columns mostly provides the post loan sanction payment behaviour of customer and may be used to generate understanding of possible defaults but considering our case study requirement, do not feel much value to consider them in analysis hence removing them\n",
    "\n",
    "<br/>\n",
    "\n",
    "**recoveries, collection\\_recovery\\_fee**\n",
    "\n",
    "- recoveries : post charge off gross recovery\n",
    "- collection\\_recovery\\_fee : post charge off collection fee\n",
    "\n",
    "Columns provides the investment went in recovery of charge off loans, this columns won't be adding value to our analysis hence removing them\n",
    "\n",
    "<br/>\n",
    "\n",
    "**last\\_pymnt\\_d, last\\_pymnt\\_amnt**\n",
    "\n",
    "- last\\_pymnt\\_d : Last month payment was received\n",
    "- last\\_pymnt\\_amnt: Last total payment amount received\n",
    "\n",
    "This columns provide the last date of payments which is of not much value for our analysis hence removing them\n",
    "\n",
    "<br/>\n",
    "\n",
    "**last\\_credit\\_pull\\_d**\n",
    "\n",
    "- last\\_credit\\_pull\\_d : The most recent month LC pulled credit for this loan\n",
    "\n",
    "Columns mentions month when Lending Club pulled credit of the loan but this won't help much in our analysis hence removing it\n",
    "\n"
   ]
  },
  {
   "cell_type": "code",
   "execution_count": 28,
   "metadata": {},
   "outputs": [],
   "source": [
    "# Removing columns in above markdown description\n",
    "\n",
    "loan_data = loan_data.drop(columns=['total_pymnt', 'total_rec_prncp', 'total_rec_int', 'total_rec_late_fee', 'recoveries', 'collection_recovery_fee', 'last_pymnt_d', 'last_pymnt_amnt', 'last_credit_pull_d'])"
   ]
  },
  {
   "cell_type": "code",
   "execution_count": 29,
   "metadata": {},
   "outputs": [
    {
     "name": "stdout",
     "output_type": "stream",
     "text": [
      "(38577, 29)\n",
      "['loan_amnt', 'funded_amnt', 'term', 'int_rate', 'installment', 'grade', 'sub_grade', 'emp_title', 'emp_length', 'home_ownership', 'annual_inc', 'verification_status', 'issue_d', 'loan_status', 'desc', 'purpose', 'title', 'zip_code', 'addr_state', 'dti', 'delinq_2yrs', 'earliest_cr_line', 'inq_last_6mths', 'open_acc', 'pub_rec', 'revol_bal', 'revol_util', 'total_acc', 'pub_rec_bankruptcies']\n"
     ]
    }
   ],
   "source": [
    "# Checking columns after above column removals\n",
    "print(loan_data.shape)\n",
    "print(loan_data.columns.tolist())"
   ]
  },
  {
   "cell_type": "markdown",
   "metadata": {},
   "source": [
    "**column, desc vs purpose**\n",
    "\n",
    "- desc : Loan description provided by the borrower\n",
    "- purpose: A category provided by the borrower for the loan request\n",
    "\n",
    "desc column is having 32% NULL, whereas purpose is having 0% NULL\n",
    "\n",
    "As purpose column is there we can use it for analysis instead of desc, so removing desc column.\n",
    "\n",
    "desc column may be more helpful to get insight in defaulted loans to find if any customer provided misleading purpose for the loan but considering our case study requirement we can skip desc column\n",
    "\n"
   ]
  },
  {
   "cell_type": "code",
   "execution_count": 30,
   "metadata": {},
   "outputs": [],
   "source": [
    "# Removing desc column\n",
    "\n",
    "loan_data = loan_data.drop(columns=['desc'])"
   ]
  },
  {
   "cell_type": "code",
   "execution_count": 31,
   "metadata": {},
   "outputs": [
    {
     "name": "stdout",
     "output_type": "stream",
     "text": [
      "(38577, 28)\n",
      "['loan_amnt', 'funded_amnt', 'term', 'int_rate', 'installment', 'grade', 'sub_grade', 'emp_title', 'emp_length', 'home_ownership', 'annual_inc', 'verification_status', 'issue_d', 'loan_status', 'purpose', 'title', 'zip_code', 'addr_state', 'dti', 'delinq_2yrs', 'earliest_cr_line', 'inq_last_6mths', 'open_acc', 'pub_rec', 'revol_bal', 'revol_util', 'total_acc', 'pub_rec_bankruptcies']\n"
     ]
    }
   ],
   "source": [
    "# Checking columns after removing desc column\n",
    "print(loan_data.shape)\n",
    "print(loan_data.columns.tolist())"
   ]
  },
  {
   "cell_type": "markdown",
   "metadata": {},
   "source": [
    "###### Removing fields below\n",
    "\n",
    "###### sub\\_grade : its part of grade variable, doesn't help much in analysis\n",
    "\n",
    "addr\\_state : this is part data for zip\\_code, so keeping zip\\_code, removing addr\\_state\n"
   ]
  },
  {
   "cell_type": "code",
   "execution_count": 32,
   "metadata": {},
   "outputs": [
    {
     "data": {
      "text/plain": [
       "CA    6949\n",
       "NY    3698\n",
       "FL    2781\n",
       "TX    2659\n",
       "NJ    1790\n",
       "IL    1478\n",
       "PA    1468\n",
       "VA    1369\n",
       "GA    1359\n",
       "MA    1297\n",
       "OH    1178\n",
       "MD    1023\n",
       "AZ     849\n",
       "WA     818\n",
       "CO     766\n",
       "NC     750\n",
       "CT     726\n",
       "MI     704\n",
       "MO     670\n",
       "MN     605\n",
       "NV     479\n",
       "SC     459\n",
       "WI     440\n",
       "AL     435\n",
       "OR     435\n",
       "LA     427\n",
       "KY     311\n",
       "OK     287\n",
       "KS     255\n",
       "UT     252\n",
       "AR     235\n",
       "DC     211\n",
       "RI     194\n",
       "NM     183\n",
       "WV     172\n",
       "NH     166\n",
       "HI     166\n",
       "DE     113\n",
       "MT      83\n",
       "WY      80\n",
       "AK      78\n",
       "SD      62\n",
       "VT      53\n",
       "MS      19\n",
       "TN      17\n",
       "IN       9\n",
       "ID       6\n",
       "IA       5\n",
       "NE       5\n",
       "ME       3\n",
       "Name: addr_state, dtype: int64"
      ]
     },
     "execution_count": 32,
     "metadata": {},
     "output_type": "execute_result"
    }
   ],
   "source": [
    "loan_data['addr_state'].value_counts()"
   ]
  },
  {
   "cell_type": "code",
   "execution_count": 33,
   "metadata": {},
   "outputs": [],
   "source": [
    "# FOR DEBUGGINGb\n",
    "loan_data_backup = loan_data.copy()"
   ]
  },
  {
   "cell_type": "code",
   "execution_count": 34,
   "metadata": {},
   "outputs": [],
   "source": [
    "#loan_data = loan_data_backup"
   ]
  },
  {
   "cell_type": "markdown",
   "metadata": {},
   "source": [
    "---"
   ]
  },
  {
   "cell_type": "markdown",
   "metadata": {},
   "source": [
    "## Outlier Treatment"
   ]
  },
  {
   "cell_type": "code",
   "execution_count": 35,
   "metadata": {},
   "outputs": [],
   "source": [
    "# Common function to check the outliers for the columns\n",
    "\n",
    "def box_plot_for_outlier_check(data, column):\n",
    "    fig, ax = plt.subplots(figsize=(14, 3))\n",
    "    ax.boxplot(data[column], vert=False)\n",
    "    ax.set_title('Box Plot of '+ column)\n",
    "    plt.show()"
   ]
  },
  {
   "cell_type": "code",
   "execution_count": 36,
   "metadata": {},
   "outputs": [
    {
     "name": "stdout",
     "output_type": "stream",
     "text": [
      "Total rows before removing Outliers : 38577\n"
     ]
    }
   ],
   "source": [
    "rows_before_removing_outliers = len(loan_data)\n",
    "print(\"Total rows before removing Outliers : \"+str(rows_before_removing_outliers))"
   ]
  },
  {
   "cell_type": "code",
   "execution_count": 37,
   "metadata": {},
   "outputs": [
    {
     "data": {
      "image/png": "[encoded data removed]",
      "text/plain": [
       "<Figure size 1400x300 with 1 Axes>"
      ]
     },
     "metadata": {},
     "output_type": "display_data"
    },
    {
     "data": {
      "image/png": "[encoded data removed]",
      "text/plain": [
       "<Figure size 1400x300 with 1 Axes>"
      ]
     },
     "metadata": {},
     "output_type": "display_data"
    },
    {
     "data": {
      "image/png": "[encoded data removed]",
      "text/plain": [
       "<Figure size 1400x300 with 1 Axes>"
      ]
     },
     "metadata": {},
     "output_type": "display_data"
    },
    {
     "data": {
      "image/png": "[encoded data removed]",
      "text/plain": [
       "<Figure size 1400x300 with 1 Axes>"
      ]
     },
     "metadata": {},
     "output_type": "display_data"
    },
    {
     "data": {
      "image/png": "[encoded data removed]",
      "text/plain": [
       "<Figure size 1400x300 with 1 Axes>"
      ]
     },
     "metadata": {},
     "output_type": "display_data"
    },
    {
     "data": {
      "image/png": "[encoded data removed]",
      "text/plain": [
       "<Figure size 1400x300 with 1 Axes>"
      ]
     },
     "metadata": {},
     "output_type": "display_data"
    }
   ],
   "source": [
    "# Checking outliers for columns\n",
    "# outlier_treatment = ['loan_amnt', 'funded_amnt', 'term', 'int_rate', 'installment', 'annual_inc', 'dti', 'revol_bal', 'revol_util']\n",
    "outlier_treatment = ['loan_amnt', 'funded_amnt', 'installment', 'annual_inc', 'dti', 'revol_bal']\n",
    "for column in outlier_treatment:\n",
    "    box_plot_for_outlier_check(loan_data, column)\n"
   ]
  },
  {
   "cell_type": "markdown",
   "metadata": {},
   "source": [
    "For most of the columns except annual_inc there are some values far from distribution, the distribution is pretty continous and there is no need to remove outliers for the columns.\n",
    "<br><br>\n",
    "Will remove the outlier for annual_inc"
   ]
  },
  {
   "cell_type": "markdown",
   "metadata": {},
   "source": [
    "__Checking outliers in annual_inc__"
   ]
  },
  {
   "cell_type": "code",
   "execution_count": 38,
   "metadata": {},
   "outputs": [
    {
     "data": {
      "text/plain": [
       "0.50     58868.0\n",
       "0.75     82000.0\n",
       "0.90    115000.0\n",
       "0.95    140004.0\n",
       "0.97    165000.0\n",
       "0.98    187000.0\n",
       "0.99    234144.0\n",
       "Name: annual_inc, dtype: float64"
      ]
     },
     "execution_count": 38,
     "metadata": {},
     "output_type": "execute_result"
    }
   ],
   "source": [
    "quantile_info = loan_data.annual_inc.quantile([0.5, 0.75,0.90, 0.95, 0.97,0.98, 0.99])\n",
    "quantile_info"
   ]
  },
  {
   "cell_type": "markdown",
   "metadata": {},
   "source": [
    "Clearly we are seeing outliers\n",
    "<br>\n",
    "Will check the quantile info, values after 95 percentile seems to be disconected from the general distribution and also there is huge increase in the value for small quantile variation.\n",
    "<br>\n",
    "So, considering threshold for removing outliers as 0.95"
   ]
  },
  {
   "cell_type": "code",
   "execution_count": 39,
   "metadata": {},
   "outputs": [],
   "source": [
    "annual_inc_at_95_percent = loan_data['annual_inc'].quantile(0.95)\n",
    "loan_data = loan_data[loan_data.annual_inc <= annual_inc_at_95_percent]"
   ]
  },
  {
   "cell_type": "code",
   "execution_count": 40,
   "metadata": {},
   "outputs": [
    {
     "data": {
      "text/plain": [
       "<AxesSubplot:xlabel='annual_inc'>"
      ]
     },
     "execution_count": 40,
     "metadata": {},
     "output_type": "execute_result"
    },
    {
     "data": {
      "image/png": "[encoded data removed]",
      "text/plain": [
       "<Figure size 640x480 with 1 Axes>"
      ]
     },
     "metadata": {},
     "output_type": "display_data"
    }
   ],
   "source": [
    "sns.boxplot(loan_data.annual_inc)"
   ]
  },
  {
   "cell_type": "markdown",
   "metadata": {},
   "source": [
    "annual_inc columns seems better now"
   ]
  },
  {
   "cell_type": "code",
   "execution_count": 41,
   "metadata": {},
   "outputs": [
    {
     "name": "stdout",
     "output_type": "stream",
     "text": [
      "Total rows after removing Outliers : 36654\n",
      "In total 1923 rows are removed while outlier cleanup\n"
     ]
    }
   ],
   "source": [
    "rows_after_removing_outliers = len(loan_data)\n",
    "print(\"Total rows after removing Outliers : \"+str(rows_after_removing_outliers))\n",
    "\n",
    "print(\"In total \"+str(rows_before_removing_outliers-rows_after_removing_outliers)+\" rows are removed while outlier cleanup\")"
   ]
  },
  {
   "cell_type": "markdown",
   "metadata": {},
   "source": [
    "---"
   ]
  },
  {
   "cell_type": "markdown",
   "metadata": {},
   "source": [
    "## Data Conversion\n",
    "\n"
   ]
  },
  {
   "cell_type": "code",
   "execution_count": 42,
   "metadata": {},
   "outputs": [
    {
     "name": "stdout",
     "output_type": "stream",
     "text": [
      "<class 'pandas.core.frame.DataFrame'>\n",
      "Int64Index: 36654 entries, 0 to 39716\n",
      "Data columns (total 28 columns):\n",
      " #   Column                Non-Null Count  Dtype  \n",
      "---  ------                --------------  -----  \n",
      " 0   loan_amnt             36654 non-null  int64  \n",
      " 1   funded_amnt           36654 non-null  int64  \n",
      " 2   term                  36654 non-null  object \n",
      " 3   int_rate              36654 non-null  object \n",
      " 4   installment           36654 non-null  float64\n",
      " 5   grade                 36654 non-null  object \n",
      " 6   sub_grade             36654 non-null  object \n",
      " 7   emp_title             34451 non-null  object \n",
      " 8   emp_length            35640 non-null  object \n",
      " 9   home_ownership        36654 non-null  object \n",
      " 10  annual_inc            36654 non-null  float64\n",
      " 11  verification_status   36654 non-null  object \n",
      " 12  issue_d               36654 non-null  object \n",
      " 13  loan_status           36654 non-null  object \n",
      " 14  purpose               36654 non-null  object \n",
      " 15  title                 36643 non-null  object \n",
      " 16  zip_code              36654 non-null  object \n",
      " 17  addr_state            36654 non-null  object \n",
      " 18  dti                   36654 non-null  float64\n",
      " 19  delinq_2yrs           36654 non-null  int64  \n",
      " 20  earliest_cr_line      36654 non-null  object \n",
      " 21  inq_last_6mths        36654 non-null  int64  \n",
      " 22  open_acc              36654 non-null  int64  \n",
      " 23  pub_rec               36654 non-null  int64  \n",
      " 24  revol_bal             36654 non-null  int64  \n",
      " 25  revol_util            36606 non-null  object \n",
      " 26  total_acc             36654 non-null  int64  \n",
      " 27  pub_rec_bankruptcies  35996 non-null  float64\n",
      "dtypes: float64(4), int64(8), object(16)\n",
      "memory usage: 8.1+ MB\n"
     ]
    }
   ],
   "source": [
    "# Checking datatype of the remaining columns\n",
    "loan_data.info()"
   ]
  },
  {
   "cell_type": "markdown",
   "metadata": {},
   "source": [
    "#### Data Conversion for column : term\n",
    "\n"
   ]
  },
  {
   "cell_type": "code",
   "execution_count": 43,
   "metadata": {},
   "outputs": [
    {
     "name": "stdout",
     "output_type": "stream",
     "text": [
      "term column before data conversion\n",
      " 36 months    27721\n",
      " 60 months     8933\n",
      "Name: term, dtype: int64\n",
      "\n",
      "term column after data conversion\n",
      "36    27721\n",
      "60     8933\n",
      "Name: term, dtype: int64\n",
      "\n",
      "term column data type after conversion is : int64\n"
     ]
    }
   ],
   "source": [
    "# Data conversion for column : term\n",
    "\n",
    "print(\"term column before data conversion\")\n",
    "print(loan_data['term'].value_counts(dropna=False))\n",
    "\n",
    "# Extracting only number from string\n",
    "loan_data['term'] = loan_data['term'].str.extract(r'(\\d+)').astype(int)\n",
    "\n",
    "print(\"\")\n",
    "\n",
    "print(\"term column after data conversion\")\n",
    "print(loan_data['term'].value_counts(dropna=False))\n",
    "\n",
    "print(\"\")\n",
    "\n",
    "print(\"term column data type after conversion is : \"+str(loan_data['term'].dtype))"
   ]
  },
  {
   "cell_type": "markdown",
   "metadata": {},
   "source": [
    "#### Data Conversion for column : int\\_rate\n",
    "\n"
   ]
  },
  {
   "cell_type": "code",
   "execution_count": 44,
   "metadata": {},
   "outputs": [
    {
     "name": "stdout",
     "output_type": "stream",
     "text": [
      "int_rate column before data conversion\n",
      "10.99%    863\n",
      "7.51%     768\n",
      "11.49%    756\n",
      "13.49%    722\n",
      "7.88%     702\n",
      "         ... \n",
      "16.71%      1\n",
      "16.01%      1\n",
      "24.40%      1\n",
      "18.36%      1\n",
      "15.01%      1\n",
      "Name: int_rate, Length: 370, dtype: int64\n",
      "\n",
      "int_rate column after data conversion\n",
      "10.99    863\n",
      "7.51     768\n",
      "11.49    756\n",
      "13.49    722\n",
      "7.88     702\n",
      "        ... \n",
      "16.71      1\n",
      "16.01      1\n",
      "24.40      1\n",
      "18.36      1\n",
      "15.01      1\n",
      "Name: int_rate, Length: 370, dtype: int64\n",
      "\n",
      "int_rate column data type after conversion is : float64\n"
     ]
    }
   ],
   "source": [
    "# Data conversion for column : int_rate\n",
    "\n",
    "print(\"int_rate column before data conversion\")\n",
    "print(loan_data['int_rate'].value_counts(dropna=False))\n",
    "\n",
    "# Removing last % from int_rate\n",
    "loan_data['int_rate'] = loan_data['int_rate'].apply(lambda x: float(x[:-1]))\n",
    "\n",
    "\n",
    "print(\"\")\n",
    "\n",
    "print(\"int_rate column after data conversion\")\n",
    "print(loan_data['int_rate'].value_counts(dropna=False))\n",
    "\n",
    "print(\"\")\n",
    "\n",
    "print(\"int_rate column data type after conversion is : \"+str(loan_data['int_rate'].dtype))"
   ]
  },
  {
   "cell_type": "markdown",
   "metadata": {},
   "source": [
    "#### Data Conversion for column : emp\\_length\n",
    "\n"
   ]
  },
  {
   "cell_type": "code",
   "execution_count": 45,
   "metadata": {},
   "outputs": [
    {
     "name": "stdout",
     "output_type": "stream",
     "text": [
      "emp_length column before data conversion\n"
     ]
    },
    {
     "data": {
      "text/plain": [
       "10+ years    7888\n",
       "< 1 year     4327\n",
       "2 years      4101\n",
       "3 years      3824\n",
       "4 years      3200\n",
       "5 years      3044\n",
       "1 year       3043\n",
       "6 years      2073\n",
       "7 years      1644\n",
       "8 years      1343\n",
       "9 years      1153\n",
       "NaN          1014\n",
       "Name: emp_length, dtype: int64"
      ]
     },
     "execution_count": 45,
     "metadata": {},
     "output_type": "execute_result"
    }
   ],
   "source": [
    "# Data conversion for column : emp_length\n",
    "\n",
    "print(\"emp_length column before data conversion\")\n",
    "loan_data['emp_length'].value_counts(dropna=False)"
   ]
  },
  {
   "cell_type": "code",
   "execution_count": 46,
   "metadata": {},
   "outputs": [
    {
     "name": "stdout",
     "output_type": "stream",
     "text": [
      "% of NULL rows for emp_length is 2.7664102144377147\n",
      "Mode of emp_length column is 10+ years\n",
      "Total Charged Off loan records having NAN emp_length : 225\n",
      "Total Charged Off loan records having NAN emp_length : 789\n"
     ]
    }
   ],
   "source": [
    "print(\"% of NULL rows for emp_length is \"+str((loan_data['emp_length'].isnull().sum()/len(loan_data))*100))\n",
    "print(\"Mode of emp_length column is \"+str(loan_data['emp_length'].mode().values[0]))\n",
    "\n",
    "# Checking how many Charged Off loans records are getting deleted if we remove entries where emp_length is NAN\n",
    "print(\"Total Charged Off loan records having NAN emp_length : \"+str(len(loan_data[(loan_data['loan_status']=='Charged Off') & (loan_data['emp_length'].isna())])))\n",
    "print(\"Total Charged Off loan records having NAN emp_length : \"+str(len(loan_data[(loan_data['loan_status']=='Fully Paid') & (loan_data['emp_length'].isna())])))"
   ]
  },
  {
   "cell_type": "markdown",
   "metadata": {},
   "source": [
    "Dropping rows with NAN emp_length will lead to deletion of Charged Off loan records which can be substantial data for us to analyse in our case study.\n",
    "\n",
    "Inputing emp_length with mode which is 10\\+ years would be wrong as we are assuming all customers without emp_length are having working exp of more than 10 years.\n",
    "\n",
    "Hence considering filling the records with -1 years and in analysis we can skip -1 years data\n"
   ]
  },
  {
   "cell_type": "code",
   "execution_count": 47,
   "metadata": {},
   "outputs": [],
   "source": [
    "loan_data['emp_length'] = loan_data['emp_length'].fillna(\"-1 years\")"
   ]
  },
  {
   "cell_type": "code",
   "execution_count": 48,
   "metadata": {
    "scrolled": true
   },
   "outputs": [
    {
     "name": "stdout",
     "output_type": "stream",
     "text": [
      " 10    7888\n",
      " 0     4327\n",
      " 2     4101\n",
      " 3     3824\n",
      " 4     3200\n",
      " 5     3044\n",
      " 1     3043\n",
      " 6     2073\n",
      " 7     1644\n",
      " 8     1343\n",
      " 9     1153\n",
      "-1     1014\n",
      "Name: emp_length, dtype: int64\n",
      "\n",
      "emp_length column data type after conversion is : int64\n"
     ]
    }
   ],
   "source": [
    "# Converting emp_length as int, considering <1 years exp as 0, 1 year as 1, 2 year as 2 so on & 10+ years as 10\n",
    "loan_data['emp_length'] = loan_data['emp_length'].replace({'-1 years': -1, '< 1 year': 0, '2 years': 2, '3 years': 3, \n",
    "                                                         '7 years': 7, '4 years': 4, '5 years': 5, \n",
    "                                                         '1 year': 1, '6 years': 6, '8 years': 8, \n",
    "                                                         '9 years': 9,  '10+ years': 10})\n",
    "\n",
    "print(loan_data['emp_length'].value_counts(dropna=False))\n",
    "\n",
    "print(\"\")\n",
    "\n",
    "print(\"emp_length column data type after conversion is : \"+str(loan_data['emp_length'].dtype))"
   ]
  },
  {
   "cell_type": "markdown",
   "metadata": {},
   "source": [
    "#### Data Conversion for column : issue\\_d\n",
    "\n"
   ]
  },
  {
   "cell_type": "code",
   "execution_count": 49,
   "metadata": {},
   "outputs": [
    {
     "name": "stdout",
     "output_type": "stream",
     "text": [
      "\n",
      "issue_d column data type after conversion is : datetime64[ns]\n"
     ]
    }
   ],
   "source": [
    "# Converting issue_d column from string object to DateTime\n",
    "loan_data['issue_d'] = pd.to_datetime(loan_data['issue_d'], format='%b-%y')\n",
    "\n",
    "print(\"\")\n",
    "\n",
    "print(\"issue_d column data type after conversion is : \"+str(loan_data['issue_d'].dtype))"
   ]
  },
  {
   "cell_type": "markdown",
   "metadata": {},
   "source": [
    "---\n",
    "\n"
   ]
  },
  {
   "cell_type": "markdown",
   "metadata": {},
   "source": [
    "### Derived Columns\n",
    "\n"
   ]
  },
  {
   "cell_type": "markdown",
   "metadata": {},
   "source": [
    "- Deriving month & year from issue\\_d column\n",
    "\n"
   ]
  },
  {
   "cell_type": "code",
   "execution_count": 50,
   "metadata": {},
   "outputs": [],
   "source": [
    "# Deriving month & year from issue_d column\n",
    "\n",
    "# Adding additional column for Year and Month for analysis extrating Year and Month from issue_d\n",
    "# Below was giving warning 'Try using .loc[row_indexer,col_indexer] = value instead' hence changed logic\n",
    "\n",
    "loan_data['issue_year'] = pd.DatetimeIndex(loan_data['issue_d']).year\n",
    "loan_data['issue_month'] = pd.DatetimeIndex(loan_data['issue_d']).month"
   ]
  },
  {
   "cell_type": "markdown",
   "metadata": {},
   "source": [
    "---\n",
    "\n"
   ]
  },
  {
   "cell_type": "markdown",
   "metadata": {},
   "source": [
    "##### Bucketing certain columns for proper analysis while doing univariate, bivariate analysis\n",
    "\n"
   ]
  },
  {
   "cell_type": "markdown",
   "metadata": {},
   "source": [
    "- Bucketing records in quarters as per derived issue\\_month column for usage in univariate, bivariate analysis\n",
    "\n"
   ]
  },
  {
   "cell_type": "code",
   "execution_count": 51,
   "metadata": {},
   "outputs": [],
   "source": [
    "# Bucketing records in quarters as per dervied issue_month column for usage in univariate, bivariate analysis\n",
    "\n",
    "# Using quarters as per calendar months, not as per Indian or US financial years\n",
    "# Q1 : Jan, Feb, Mar\n",
    "# Q2 : Apr, May, Jun\n",
    "# Q3 : Jul, Aug, Sep\n",
    "# Q4 : Oct, Nov, Dec\n",
    "def bucket_records_in_quarters(column):\n",
    "    if column < 4:\n",
    "        return 'Q1' \n",
    "    elif (column >= 4) and (column < 7):\n",
    "        return 'Q2'      \n",
    "    elif (column >= 7) and (column < 9):\n",
    "        return 'Q3'  \n",
    "    else:\n",
    "        return 'Q4'\n",
    "    \n",
    "loan_data['issue_quarter'] = loan_data.apply(lambda x : bucket_records_in_quarters(x['issue_month']), axis = 1)"
   ]
  },
  {
   "cell_type": "code",
   "execution_count": 52,
   "metadata": {},
   "outputs": [
    {
     "data": {
      "text/plain": [
       "issue_d     issue_year  issue_month  issue_quarter\n",
       "2011-12-01  2011        12           Q4               1967\n",
       "2011-11-01  2011        11           Q4               1961\n",
       "2011-10-01  2011        10           Q4               1810\n",
       "2011-09-01  2011        9            Q4               1790\n",
       "2011-08-01  2011        8            Q3               1700\n",
       "2011-07-01  2011        7            Q3               1652\n",
       "2011-06-01  2011        6            Q2               1617\n",
       "2011-05-01  2011        5            Q2               1528\n",
       "2011-04-01  2011        4            Q2               1496\n",
       "2011-03-01  2011        3            Q1               1363\n",
       "2011-01-01  2011        1            Q1               1321\n",
       "2011-02-01  2011        2            Q1               1241\n",
       "2010-12-01  2010        12           Q4               1210\n",
       "2010-07-01  2010        7            Q3               1084\n",
       "2010-11-01  2010        11           Q4               1076\n",
       "2010-10-01  2010        10           Q4               1075\n",
       "2010-09-01  2010        9            Q4               1031\n",
       "2010-08-01  2010        8            Q3               1029\n",
       "2010-06-01  2010        6            Q2                987\n",
       "2010-05-01  2010        5            Q2                886\n",
       "2010-04-01  2010        4            Q2                791\n",
       "2010-03-01  2010        3            Q1                698\n",
       "2010-02-01  2010        2            Q1                592\n",
       "2009-11-01  2009        11           Q4                569\n",
       "2010-01-01  2010        1            Q1                554\n",
       "2009-12-01  2009        12           Q4                553\n",
       "2009-10-01  2009        10           Q4                513\n",
       "2009-09-01  2009        9            Q4                426\n",
       "2009-08-01  2009        8            Q3                391\n",
       "2009-07-01  2009        7            Q3                355\n",
       "2009-06-01  2009        6            Q2                338\n",
       "2009-05-01  2009        5            Q2                305\n",
       "2009-04-01  2009        4            Q2                280\n",
       "2009-03-01  2009        3            Q1                267\n",
       "2009-02-01  2009        2            Q1                250\n",
       "2009-01-01  2009        1            Q1                229\n",
       "2008-03-01  2008        3            Q1                224\n",
       "2008-12-01  2008        12           Q4                207\n",
       "2008-11-01  2008        11           Q4                180\n",
       "2008-02-01  2008        2            Q1                168\n",
       "2008-01-01  2008        1            Q1                164\n",
       "2008-04-01  2008        4            Q2                146\n",
       "2008-10-01  2008        10           Q4                 89\n",
       "2007-12-01  2007        12           Q4                 82\n",
       "2008-07-01  2008        7            Q3                 81\n",
       "2008-05-01  2008        5            Q2                 69\n",
       "2008-08-01  2008        8            Q3                 67\n",
       "2008-06-01  2008        6            Q2                 65\n",
       "2007-10-01  2007        10           Q4                 46\n",
       "2007-11-01  2007        11           Q4                 34\n",
       "2008-09-01  2008        9            Q4                 29\n",
       "2007-08-01  2007        8            Q3                 28\n",
       "2007-07-01  2007        7            Q3                 24\n",
       "2007-09-01  2007        9            Q4                 15\n",
       "2007-06-01  2007        6            Q2                  1\n",
       "dtype: int64"
      ]
     },
     "execution_count": 52,
     "metadata": {},
     "output_type": "execute_result"
    }
   ],
   "source": [
    "loan_data[['issue_d','issue_year','issue_month','issue_quarter']].value_counts()"
   ]
  },
  {
   "cell_type": "markdown",
   "metadata": {},
   "source": [
    "---\n",
    "\n"
   ]
  },
  {
   "cell_type": "code",
   "execution_count": 53,
   "metadata": {},
   "outputs": [],
   "source": [
    "# Common function to bucket the column\n",
    "\n",
    "def bucket_columns(column_name, bucketed_column_name, bin_edges, labels):\n",
    "    loan_data[bucketed_column_name] = pd.cut(loan_data[column_name], bins=bin_edges, labels=labels)\n",
    "    \n",
    "    # Verifying if group is done properly by checking max & min in each bucket\n",
    "    grouped_data = loan_data.groupby(bucketed_column_name)[column_name].agg(['min', 'max'])\n",
    "\n",
    "    print(grouped_data)"
   ]
  },
  {
   "cell_type": "markdown",
   "metadata": {},
   "source": [
    "- Bucketing loan\\_amnt column for usage in univariate, bivariate analysis\n",
    "\n"
   ]
  },
  {
   "cell_type": "code",
   "execution_count": 54,
   "metadata": {},
   "outputs": [
    {
     "data": {
      "text/plain": [
       "count    36654.000000\n",
       "mean     10682.249550\n",
       "std       7048.414166\n",
       "min        500.000000\n",
       "25%       5000.000000\n",
       "50%       9250.000000\n",
       "75%      15000.000000\n",
       "max      35000.000000\n",
       "Name: loan_amnt, dtype: float64"
      ]
     },
     "execution_count": 54,
     "metadata": {},
     "output_type": "execute_result"
    }
   ],
   "source": [
    "loan_data['loan_amnt'].describe()"
   ]
  },
  {
   "cell_type": "code",
   "execution_count": 55,
   "metadata": {},
   "outputs": [
    {
     "name": "stdout",
     "output_type": "stream",
     "text": [
      "                    min    max\n",
      "loan_amnt_bucket              \n",
      "0-5K                500   5000\n",
      "5K-10K             5025  10000\n",
      "10K-15K           10025  15000\n",
      "15K & Above       15025  35000\n"
     ]
    }
   ],
   "source": [
    "# Bucketting loan_amnt\n",
    "bin_edges = [0, 5000, 10000, 15000, max(loan_data['loan_amnt'])]\n",
    "labels = ['0-5K', '5K-10K', '10K-15K', '15K & Above']\n",
    "# Using custom function 'bucket_columns' defined above to bucket the columns\n",
    "bucket_columns('loan_amnt', 'loan_amnt_bucket', bin_edges, labels)"
   ]
  },
  {
   "cell_type": "markdown",
   "metadata": {},
   "source": [
    "---\n",
    "\n"
   ]
  },
  {
   "cell_type": "markdown",
   "metadata": {},
   "source": [
    "- Bucketing funded\\_amnt column for usage in univariate, bivariate analysis\n",
    "\n"
   ]
  },
  {
   "cell_type": "code",
   "execution_count": 56,
   "metadata": {},
   "outputs": [
    {
     "data": {
      "text/plain": [
       "count    36654.000000\n",
       "mean     10436.144077\n",
       "std       6800.636737\n",
       "min        500.000000\n",
       "25%       5000.000000\n",
       "50%       9000.000000\n",
       "75%      14400.000000\n",
       "max      35000.000000\n",
       "Name: funded_amnt, dtype: float64"
      ]
     },
     "execution_count": 56,
     "metadata": {},
     "output_type": "execute_result"
    }
   ],
   "source": [
    "loan_data['funded_amnt'].describe()"
   ]
  },
  {
   "cell_type": "code",
   "execution_count": 57,
   "metadata": {},
   "outputs": [
    {
     "name": "stdout",
     "output_type": "stream",
     "text": [
      "                      min    max\n",
      "funded_amnt_bucket              \n",
      "0-5K                  500   5000\n",
      "5K-10K               5025  10000\n",
      "10K-15K             10025  15000\n",
      "15K & Above         15025  35000\n"
     ]
    }
   ],
   "source": [
    "# Bucketting funded_amnt\n",
    "\n",
    "bin_edges = [0, 5000, 10000, 15000, max(loan_data['funded_amnt'])]\n",
    "labels = ['0-5K', '5K-10K', '10K-15K', '15K & Above']\n",
    "# Using custom function 'bucket_columns' defined above to bucket the columns\n",
    "bucket_columns('funded_amnt', 'funded_amnt_bucket', bin_edges, labels)"
   ]
  },
  {
   "cell_type": "markdown",
   "metadata": {},
   "source": [
    "---\n",
    "\n"
   ]
  },
  {
   "cell_type": "markdown",
   "metadata": {},
   "source": [
    "- Bucketing int\\_rate column for usage in univariate, bivariate analysis\n",
    "\n"
   ]
  },
  {
   "cell_type": "code",
   "execution_count": 58,
   "metadata": {},
   "outputs": [
    {
     "data": {
      "text/plain": [
       "count    36654.000000\n",
       "mean        11.888080\n",
       "std          3.667257\n",
       "min          5.420000\n",
       "25%          8.940000\n",
       "50%         11.710000\n",
       "75%         14.270000\n",
       "max         24.400000\n",
       "Name: int_rate, dtype: float64"
      ]
     },
     "execution_count": 58,
     "metadata": {},
     "output_type": "execute_result"
    }
   ],
   "source": [
    "loan_data['int_rate'].describe()"
   ]
  },
  {
   "cell_type": "code",
   "execution_count": 59,
   "metadata": {},
   "outputs": [
    {
     "name": "stdout",
     "output_type": "stream",
     "text": [
      "                   min    max\n",
      "int_rate_bucket              \n",
      "Low               5.42   8.94\n",
      "Medium            9.01  10.99\n",
      "High             11.03  13.99\n",
      "Very High        14.07  24.40\n"
     ]
    }
   ],
   "source": [
    "# Bucketting int_rate\n",
    "\n",
    "bin_edges = [0, 9, 11, 14, max(loan_data['int_rate'])]\n",
    "labels = ['Low', 'Medium', 'High', 'Very High']\n",
    "# Using custom function 'bucket_columns' defined above to bucket the columns\n",
    "bucket_columns('int_rate', 'int_rate_bucket', bin_edges, labels)"
   ]
  },
  {
   "cell_type": "markdown",
   "metadata": {},
   "source": [
    "---\n",
    "\n"
   ]
  },
  {
   "cell_type": "markdown",
   "metadata": {},
   "source": [
    "- Bucketing annual\\_inc column for usage in univariate, bivariate analysis\n",
    "\n"
   ]
  },
  {
   "cell_type": "code",
   "execution_count": 60,
   "metadata": {},
   "outputs": [
    {
     "data": {
      "text/plain": [
       "count     36.654000\n",
       "mean      60.855752\n",
       "std       27.750284\n",
       "min        4.000000\n",
       "25%       40.000000\n",
       "50%       56.000000\n",
       "75%       77.970500\n",
       "max      140.004000\n",
       "Name: annual_inc, dtype: float64"
      ]
     },
     "execution_count": 60,
     "metadata": {},
     "output_type": "execute_result"
    }
   ],
   "source": [
    "loan_data['annual_inc'].describe() / 1000"
   ]
  },
  {
   "cell_type": "code",
   "execution_count": 61,
   "metadata": {},
   "outputs": [
    {
     "name": "stdout",
     "output_type": "stream",
     "text": [
      "                        min       max\n",
      "annual_inc_bucket                    \n",
      "0 - 40K             4000.00   40000.0\n",
      "40K - 50K          40008.00   50000.0\n",
      "50K - 60K          50000.04   60000.0\n",
      "60K - 70K          60008.00   70000.0\n",
      "70K - 80K          70001.00   80000.0\n",
      "80K & Above        80004.00  140004.0\n"
     ]
    }
   ],
   "source": [
    "# Bucketting annual_inc\n",
    "\n",
    "bin_edges = [0, 40000, 50000, 60000, 70000, 80000, max(loan_data['annual_inc'])]\n",
    "labels = ['0 - 40K', '40K - 50K', '50K - 60K', '60K - 70K', '70K - 80K', '80K & Above']\n",
    "# Using custom function 'bucket_columns' defined above to bucket the columns\n",
    "bucket_columns('annual_inc', 'annual_inc_bucket', bin_edges, labels)"
   ]
  },
  {
   "cell_type": "markdown",
   "metadata": {},
   "source": [
    "---\n",
    "\n"
   ]
  },
  {
   "cell_type": "markdown",
   "metadata": {},
   "source": [
    "- Bucketing dti column for usage in univariate, bivariate analysis\n",
    "\n"
   ]
  },
  {
   "cell_type": "code",
   "execution_count": 62,
   "metadata": {},
   "outputs": [
    {
     "data": {
      "text/plain": [
       "count    36654.000000\n",
       "mean        13.446725\n",
       "std          6.661899\n",
       "min          0.000000\n",
       "25%          8.350000\n",
       "50%         13.580000\n",
       "75%         18.710000\n",
       "max         29.990000\n",
       "Name: dti, dtype: float64"
      ]
     },
     "execution_count": 62,
     "metadata": {},
     "output_type": "execute_result"
    }
   ],
   "source": [
    "loan_data['dti'].describe()"
   ]
  },
  {
   "cell_type": "code",
   "execution_count": 63,
   "metadata": {},
   "outputs": [
    {
     "name": "stdout",
     "output_type": "stream",
     "text": [
      "              min   max\n",
      "dti_bucket             \n",
      "Low          0.01   8.0\n",
      "Medium       8.01  13.0\n",
      "High        13.01  18.0\n",
      "Very High   18.01  24.4\n"
     ]
    }
   ],
   "source": [
    "# Bucketting dti\n",
    "\n",
    "bin_edges = [0, 8, 13, 18, max(loan_data['int_rate'])]\n",
    "labels = ['Low', 'Medium', 'High', 'Very High']\n",
    "# Using custom function 'bucket_columns' defined above to bucket the columns\n",
    "bucket_columns('dti', 'dti_bucket', bin_edges, labels)"
   ]
  },
  {
   "cell_type": "markdown",
   "metadata": {},
   "source": [
    "---\n",
    "\n"
   ]
  },
  {
   "cell_type": "markdown",
   "metadata": {},
   "source": [
    "# <u>Data Cleaning : Ends Here</u>\n",
    "\n"
   ]
  },
  {
   "cell_type": "markdown",
   "metadata": {},
   "source": [
    "---\n",
    "\n"
   ]
  },
  {
   "cell_type": "code",
   "execution_count": 64,
   "metadata": {},
   "outputs": [
    {
     "name": "stdout",
     "output_type": "stream",
     "text": [
      "<class 'pandas.core.frame.DataFrame'>\n",
      "Int64Index: 36654 entries, 0 to 39716\n",
      "Data columns (total 36 columns):\n",
      " #   Column                Non-Null Count  Dtype         \n",
      "---  ------                --------------  -----         \n",
      " 0   loan_amnt             36654 non-null  int64         \n",
      " 1   funded_amnt           36654 non-null  int64         \n",
      " 2   term                  36654 non-null  int64         \n",
      " 3   int_rate              36654 non-null  float64       \n",
      " 4   installment           36654 non-null  float64       \n",
      " 5   grade                 36654 non-null  object        \n",
      " 6   sub_grade             36654 non-null  object        \n",
      " 7   emp_title             34451 non-null  object        \n",
      " 8   emp_length            36654 non-null  int64         \n",
      " 9   home_ownership        36654 non-null  object        \n",
      " 10  annual_inc            36654 non-null  float64       \n",
      " 11  verification_status   36654 non-null  object        \n",
      " 12  issue_d               36654 non-null  datetime64[ns]\n",
      " 13  loan_status           36654 non-null  object        \n",
      " 14  purpose               36654 non-null  object        \n",
      " 15  title                 36643 non-null  object        \n",
      " 16  zip_code              36654 non-null  object        \n",
      " 17  addr_state            36654 non-null  object        \n",
      " 18  dti                   36654 non-null  float64       \n",
      " 19  delinq_2yrs           36654 non-null  int64         \n",
      " 20  earliest_cr_line      36654 non-null  object        \n",
      " 21  inq_last_6mths        36654 non-null  int64         \n",
      " 22  open_acc              36654 non-null  int64         \n",
      " 23  pub_rec               36654 non-null  int64         \n",
      " 24  revol_bal             36654 non-null  int64         \n",
      " 25  revol_util            36606 non-null  object        \n",
      " 26  total_acc             36654 non-null  int64         \n",
      " 27  pub_rec_bankruptcies  35996 non-null  float64       \n",
      " 28  issue_year            36654 non-null  int64         \n",
      " 29  issue_month           36654 non-null  int64         \n",
      " 30  issue_quarter         36654 non-null  object        \n",
      " 31  loan_amnt_bucket      36654 non-null  category      \n",
      " 32  funded_amnt_bucket    36654 non-null  category      \n",
      " 33  int_rate_bucket       36654 non-null  category      \n",
      " 34  annual_inc_bucket     36654 non-null  category      \n",
      " 35  dti_bucket            35238 non-null  category      \n",
      "dtypes: category(5), datetime64[ns](1), float64(5), int64(12), object(13)\n",
      "memory usage: 9.1+ MB\n",
      "None\n"
     ]
    }
   ],
   "source": [
    "# Printing column info to see data after data cleanup\n",
    "\n",
    "print(loan_data.info())"
   ]
  },
  {
   "cell_type": "markdown",
   "metadata": {},
   "source": [
    "# <u>Data Analysis : Starts Here</u>\n",
    "\n"
   ]
  },
  {
   "cell_type": "markdown",
   "metadata": {},
   "source": [
    "## Univariate Analysis\n",
    "\n"
   ]
  },
  {
   "cell_type": "markdown",
   "metadata": {},
   "source": [
    "### Common Functions to be used in analysis"
   ]
  },
  {
   "cell_type": "code",
   "execution_count": 75,
   "metadata": {},
   "outputs": [],
   "source": [
    "# Function to plot density histogram & Box Plot for column for Univariate Analysis of Quantative Variables\n",
    "def univariate_quantvar_analysis(column):\n",
    "    \n",
    "    fig, p = plt.subplots(1,2, figsize=(16, 4))\n",
    "    sns.boxplot(x=column, data=loan_data, ax=p[0])\n",
    "    sns.distplot(loan_data.loc[loan_data[column].notnull(), column], kde=True, hist=True, ax=p[1], color='green')\n",
    "    p[0].set_xlabel(column)\n",
    "    p[1].set_xlabel(column)\n",
    "    plt.tight_layout()\n",
    "    plt.show()    \n",
    "    print()\n",
    "    print(loan_data[column].describe())\n",
    "    print()\n",
    "    print(\"Median is : \"+str(loan_data[column].median()))\n",
    "    \n",
    "# Function to bar chart for Univariate Analysis of Categorical Variables\n",
    "def univariate_catvar_analysis(column): \n",
    "    loan_data[column].value_counts().plot.bar()\n",
    "    plt.show()\n"
   ]
  },
  {
   "cell_type": "markdown",
   "metadata": {},
   "source": [
    "-----"
   ]
  },
  {
   "cell_type": "markdown",
   "metadata": {},
   "source": [
    "## Univariate Analysis - Quantitative Variables"
   ]
  },
  {
   "cell_type": "markdown",
   "metadata": {},
   "source": [
    "### Column: loan_amnt"
   ]
  },
  {
   "cell_type": "code",
   "execution_count": 66,
   "metadata": {},
   "outputs": [
    {
     "data": {
      "image/png": "[encoded data removed]",
      "text/plain": [
       "<Figure size 1600x400 with 2 Axes>"
      ]
     },
     "metadata": {},
     "output_type": "display_data"
    },
    {
     "name": "stdout",
     "output_type": "stream",
     "text": [
      "\n",
      "count    36654.000000\n",
      "mean     10682.249550\n",
      "std       7048.414166\n",
      "min        500.000000\n",
      "25%       5000.000000\n",
      "50%       9250.000000\n",
      "75%      15000.000000\n",
      "max      35000.000000\n",
      "Name: loan_amnt, dtype: float64\n",
      "\n",
      "Median is : 9250.0\n"
     ]
    }
   ],
   "source": [
    "univariate_quantvar_analysis('loan_amnt')"
   ]
  },
  {
   "cell_type": "markdown",
   "metadata": {},
   "source": [
    "__Analysis:__\n",
    "<br>\n",
    "- Most of the loan_amnt is in the range of 5K to 15K\n",
    "- We can see spikes around round figure 5000, 10000, 15000, 20000, 25000, 30000, 35000 which is obvious as mostly people look for loans around round figures\n",
    "- Average loan_amnt is 10682 and Median is 99250"
   ]
  },
  {
   "cell_type": "markdown",
   "metadata": {},
   "source": [
    "------"
   ]
  },
  {
   "cell_type": "markdown",
   "metadata": {},
   "source": [
    "### Column : funded_amnt"
   ]
  },
  {
   "cell_type": "code",
   "execution_count": 67,
   "metadata": {},
   "outputs": [
    {
     "data": {
      "image/png": "[encoded data removed]",
      "text/plain": [
       "<Figure size 1600x400 with 2 Axes>"
      ]
     },
     "metadata": {},
     "output_type": "display_data"
    },
    {
     "name": "stdout",
     "output_type": "stream",
     "text": [
      "\n",
      "count    36654.000000\n",
      "mean     10436.144077\n",
      "std       6800.636737\n",
      "min        500.000000\n",
      "25%       5000.000000\n",
      "50%       9000.000000\n",
      "75%      14400.000000\n",
      "max      35000.000000\n",
      "Name: funded_amnt, dtype: float64\n",
      "\n",
      "Median is : 9000.0\n"
     ]
    }
   ],
   "source": [
    "univariate_quantvar_analysis('funded_amnt')"
   ]
  },
  {
   "cell_type": "markdown",
   "metadata": {},
   "source": [
    "__Analysis:__\n",
    "<br>\n",
    "- Most of the funded_amnt is in the range of 5K to 15K\n",
    "- We can see spikes around round figure 5000, 10000, 15000, 20000, 25000, 30000, 35000 which is obvious as mostly people look for loans around round figures\n",
    "- Average funded_amnt is 10436 and Median is 9000"
   ]
  },
  {
   "cell_type": "markdown",
   "metadata": {},
   "source": [
    "---\n",
    "\n"
   ]
  },
  {
   "cell_type": "markdown",
   "metadata": {},
   "source": [
    "### Column : int_rate"
   ]
  },
  {
   "cell_type": "code",
   "execution_count": 68,
   "metadata": {},
   "outputs": [
    {
     "data": {
      "image/png": "[encoded data removed]",
      "text/plain": [
       "<Figure size 1600x400 with 2 Axes>"
      ]
     },
     "metadata": {},
     "output_type": "display_data"
    },
    {
     "name": "stdout",
     "output_type": "stream",
     "text": [
      "\n",
      "count    36654.000000\n",
      "mean        11.888080\n",
      "std          3.667257\n",
      "min          5.420000\n",
      "25%          8.940000\n",
      "50%         11.710000\n",
      "75%         14.270000\n",
      "max         24.400000\n",
      "Name: int_rate, dtype: float64\n",
      "\n",
      "Median is : 11.71\n"
     ]
    }
   ],
   "source": [
    "univariate_quantvar_analysis('int_rate')"
   ]
  },
  {
   "cell_type": "markdown",
   "metadata": {},
   "source": [
    "__Analysis:__\n",
    "<br>\n",
    "- Majority of the interest rate is in the range of 5% to 14% going at the max to 24%\n",
    "- Average int_rate is 11.88% and Median is 11.71%"
   ]
  },
  {
   "cell_type": "markdown",
   "metadata": {},
   "source": [
    "------"
   ]
  },
  {
   "cell_type": "markdown",
   "metadata": {},
   "source": [
    "### Column : installment"
   ]
  },
  {
   "cell_type": "code",
   "execution_count": 69,
   "metadata": {},
   "outputs": [
    {
     "data": {
      "image/png": "[encoded data removed]",
      "text/plain": [
       "<Figure size 1600x400 with 2 Axes>"
      ]
     },
     "metadata": {},
     "output_type": "display_data"
    },
    {
     "name": "stdout",
     "output_type": "stream",
     "text": [
      "\n",
      "count    36654.000000\n",
      "mean       311.888682\n",
      "std        199.230096\n",
      "min         15.690000\n",
      "25%        163.080000\n",
      "50%        270.420000\n",
      "75%        408.480000\n",
      "max       1305.190000\n",
      "Name: installment, dtype: float64\n",
      "\n",
      "Median is : 270.42\n"
     ]
    }
   ],
   "source": [
    "univariate_quantvar_analysis('installment')"
   ]
  },
  {
   "cell_type": "markdown",
   "metadata": {},
   "source": [
    "__Analysis:__\n",
    "<br>\n",
    "- Most of the installment are in the range of 160 to 400\n",
    "- Average int_rate is 311.88 and Median is 270.42"
   ]
  },
  {
   "cell_type": "markdown",
   "metadata": {},
   "source": [
    "----"
   ]
  },
  {
   "cell_type": "markdown",
   "metadata": {},
   "source": [
    "### Column : annual_inc"
   ]
  },
  {
   "cell_type": "code",
   "execution_count": 70,
   "metadata": {},
   "outputs": [
    {
     "data": {
      "image/png": "[encoded data removed]",
      "text/plain": [
       "<Figure size 1600x400 with 2 Axes>"
      ]
     },
     "metadata": {},
     "output_type": "display_data"
    },
    {
     "name": "stdout",
     "output_type": "stream",
     "text": [
      "\n",
      "count     36654.000000\n",
      "mean      60855.751621\n",
      "std       27750.284125\n",
      "min        4000.000000\n",
      "25%       40000.000000\n",
      "50%       56000.000000\n",
      "75%       77970.500000\n",
      "max      140004.000000\n",
      "Name: annual_inc, dtype: float64\n",
      "\n",
      "Median is : 56000.0\n"
     ]
    }
   ],
   "source": [
    "univariate_quantvar_analysis('annual_inc')"
   ]
  },
  {
   "cell_type": "markdown",
   "metadata": {},
   "source": [
    "__Analysis:__\n",
    "<br>\n",
    "- Majorly customer annual income is between 40000 to 78000\n",
    "- Average annual_inc is 60855.75 and Median is 56000.0"
   ]
  },
  {
   "cell_type": "markdown",
   "metadata": {},
   "source": [
    "----"
   ]
  },
  {
   "cell_type": "markdown",
   "metadata": {},
   "source": [
    "### Column : dti"
   ]
  },
  {
   "cell_type": "code",
   "execution_count": 71,
   "metadata": {},
   "outputs": [
    {
     "data": {
      "image/png": "[encoded data removed]",
      "text/plain": [
       "<Figure size 1600x400 with 2 Axes>"
      ]
     },
     "metadata": {},
     "output_type": "display_data"
    },
    {
     "name": "stdout",
     "output_type": "stream",
     "text": [
      "\n",
      "count    36654.000000\n",
      "mean        13.446725\n",
      "std          6.661899\n",
      "min          0.000000\n",
      "25%          8.350000\n",
      "50%         13.580000\n",
      "75%         18.710000\n",
      "max         29.990000\n",
      "Name: dti, dtype: float64\n",
      "\n",
      "Median is : 13.58\n"
     ]
    }
   ],
   "source": [
    "univariate_quantvar_analysis('dti')"
   ]
  },
  {
   "cell_type": "markdown",
   "metadata": {},
   "source": [
    "__Analysis:__\n",
    "<br>\n",
    "- Majorly dti is ranging between 8 to 18\n",
    "- Average income is 13.44 and Median is 13.58\n",
    "- We can see sharp drop in dti after 25"
   ]
  },
  {
   "cell_type": "markdown",
   "metadata": {},
   "source": [
    "----"
   ]
  },
  {
   "cell_type": "markdown",
   "metadata": {},
   "source": [
    "## Univariate Analysis - Categorical Variables"
   ]
  },
  {
   "cell_type": "markdown",
   "metadata": {},
   "source": [
    "### Column : grade"
   ]
  },
  {
   "cell_type": "code",
   "execution_count": 77,
   "metadata": {},
   "outputs": [
    {
     "data": {
      "image/png": "[encoded data removed]",
      "text/plain": [
       "<Figure size 640x480 with 1 Axes>"
      ]
     },
     "metadata": {},
     "output_type": "display_data"
    }
   ],
   "source": [
    "univariate_catvar_analysis('grade')"
   ]
  },
  {
   "cell_type": "markdown",
   "metadata": {},
   "source": [
    "__Analysis:__\n",
    "<br>\n",
    "- Majority of loan application fall under Grade B"
   ]
  },
  {
   "cell_type": "markdown",
   "metadata": {},
   "source": [
    "-----"
   ]
  },
  {
   "cell_type": "markdown",
   "metadata": {},
   "source": [
    "### Column : sub_grade"
   ]
  },
  {
   "cell_type": "code",
   "execution_count": 80,
   "metadata": {},
   "outputs": [
    {
     "data": {
      "image/png": "[encoded data removed]",
      "text/plain": [
       "<Figure size 640x480 with 1 Axes>"
      ]
     },
     "metadata": {},
     "output_type": "display_data"
    }
   ],
   "source": [
    "univariate_catvar_analysis('sub_grade')"
   ]
  },
  {
   "cell_type": "markdown",
   "metadata": {},
   "source": [
    "__Analysis:__\n",
    "<br>\n",
    "- Majority of loan application fall under Grade B"
   ]
  },
  {
   "cell_type": "markdown",
   "metadata": {},
   "source": [
    "-----"
   ]
  },
  {
   "cell_type": "markdown",
   "metadata": {},
   "source": [
    "### Column : home_ownership"
   ]
  },
  {
   "cell_type": "code",
   "execution_count": 79,
   "metadata": {},
   "outputs": [
    {
     "data": {
      "image/png": "[encoded data removed]",
      "text/plain": [
       "<Figure size 640x480 with 1 Axes>"
      ]
     },
     "metadata": {},
     "output_type": "display_data"
    }
   ],
   "source": [
    "univariate_catvar_analysis('home_ownership')"
   ]
  },
  {
   "cell_type": "markdown",
   "metadata": {},
   "source": [
    "__Analysis:__\n",
    "<br>\n",
    "- Customers on rent and mortgage tend to opt for loans more than those owing house"
   ]
  },
  {
   "cell_type": "markdown",
   "metadata": {},
   "source": [
    "-----"
   ]
  },
  {
   "cell_type": "code",
   "execution_count": null,
   "metadata": {},
   "outputs": [],
   "source": []
  },
  {
   "cell_type": "code",
   "execution_count": null,
   "metadata": {},
   "outputs": [],
   "source": []
  }
 ],
 "metadata": {
  "kernelspec": {
   "display_name": "Python 3 (ipykernel)",
   "language": "python",
   "name": "python3"
  },
  "language_info": {
   "codemirror_mode": {
    "name": "ipython",
    "version": 3
   },
   "file_extension": ".py",
   "mimetype": "text/x-python",
   "name": "python",
   "nbconvert_exporter": "python",
   "pygments_lexer": "ipython3",
   "version": "3.9.13"
  }
 },
 "nbformat": 4,
 "nbformat_minor": 4
}
